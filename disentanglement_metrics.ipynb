{
  "nbformat": 4,
  "nbformat_minor": 0,
  "metadata": {
    "colab": {
      "name": "MIG_Disentanglement metric 5.1 TAH.ipynb",
      "provenance": [],
      "collapsed_sections": [
        "EcL30immAFJT",
        "Nwa15MVWVfeV",
        "Y9REjJqyWKeR"
      ],
      "machine_shape": "hm"
    },
    "kernelspec": {
      "name": "python3",
      "display_name": "Python 3"
    },
    "language_info": {
      "name": "python"
    },
    "accelerator": "GPU"
  },
  "cells": [
    {
      "cell_type": "code",
      "execution_count": null,
      "metadata": {
        "id": "zoZdfKJvQ09P"
      },
      "outputs": [],
      "source": [
        "from __future__ import absolute_import\n",
        "from __future__ import division\n",
        "from __future__ import print_function\n",
        "from absl import logging\n",
        "import numpy as np\n",
        "\n",
        "import torch\n",
        "import torch.nn as nn\n",
        "import torch.nn.init as init\n",
        "from torch.autograd import Variable\n",
        "import torch.nn.functional as F\n",
        "from torchvision import datasets, transforms\n",
        "from torchvision.utils import save_image\n",
        "\n",
        "from six.moves import range\n",
        "from sklearn import linear_model\n",
        "import gin"
      ]
    },
    {
      "cell_type": "markdown",
      "source": [
        "## The Metric Code\n",
        "\n",
        "src: https://gitee.com/microcloud/disentanglement_lib"
      ],
      "metadata": {
        "id": "KUI7v-seQ_tG"
      }
    },
    {
      "cell_type": "code",
      "source": [
        "def _generate_training_sample(ground_truth_data, representation_function,\n",
        "                              batch_size, random_state, density, repr='VAE', mode='higgins'):\n",
        "    \"\"\"Sample a single training sample based on a mini-batch of ground-truth data.\n",
        "\n",
        "    Args:\n",
        "      ground_truth_data: GroundTruthData to be sampled from.\n",
        "      representation_function: Function that takes observation as input and\n",
        "        outputs a representation.\n",
        "      batch_size: Number of points to be used to compute the training_sample\n",
        "      random_state: Numpy random state used for randomness.\n",
        "\n",
        "    Returns:\n",
        "      index: Index of coordinate to be used.\n",
        "      feature_vector: Feature vector of training sample.\n",
        "    \"\"\"\n",
        "    # Select random coordinate to keep fixed.\n",
        "    index = random_state.randint(ground_truth_data.num_factors)\n",
        "    # Sample two mini batches of latent variables.\n",
        "    factors1 = ground_truth_data.sample_factors(batch_size, random_state, density)\n",
        "    factors2 = ground_truth_data.sample_factors(batch_size, random_state, density)\n",
        "    \n",
        "    # Ensure sampled coordinate is the same across pairs of samples.\n",
        "    factors2[:, index] = factors1[:, index]\n",
        "    # Transform latent variables to observation space.\n",
        "    observation1 = ground_truth_data.sample_observations_from_factors(\n",
        "        factors1, random_state)\n",
        "\n",
        "    observation2 = ground_truth_data.sample_observations_from_factors(\n",
        "        factors2, random_state)\n",
        "    \n",
        "    # original Dsprites observation shape: obs1:  (5, 64, 64, 1), we need (5, -1) \n",
        "    # since input needs to be flattened before passing into encoder\n",
        "    # print(\"obs: \", observation1.shape)\n",
        "    if repr == 'VAE':\n",
        "\n",
        "      observation1 = torch.permute(torch.tensor(observation1), (0, 3, 1, 2)) # N, C, H, W (originally it was N=5, H=64, W=64, C=1)\n",
        "      observation2 = torch.permute(torch.tensor(observation2), (0, 3, 1, 2))\n",
        "      # Compute representations based on the observations.\n",
        "      with torch.no_grad():\n",
        "        representation1 = representation_function(observation1)\n",
        "        representation2 = representation_function(observation2)\n",
        "      # After encoder, should be of shape (N=5, z*2)\n",
        "\n",
        "      feature_vector = torch.mean(torch.abs(representation1 - representation2), axis=0) \n",
        "    \n",
        "    if repr == 'PCA':\n",
        "      observation1 = np.squeeze(observation1, -1).reshape((batch_size, -1)) # N, H*W\n",
        "      #print(\"obs1 shape: \", observation1.shape)\n",
        "      observation2 = np.squeeze(observation2, -1).reshape((batch_size, -1))\n",
        "      #print(\"obs2 shape: \", observation2.shape)\n",
        "      representation1 = representation_function(observation1)\n",
        "      representation2 = representation_function(observation2)   # out: N, num_pc\n",
        "      feature_vector = np.mean(np.abs(representation1 - representation2), axis=0)  \n",
        "    \n",
        "    if repr == 'BetaVAE':\n",
        "      observation1 = torch.permute(torch.tensor(observation1), (0, 3, 1, 2)).float() \n",
        "      observation2 = torch.permute(torch.tensor(observation2), (0, 3, 1, 2)).float()\n",
        "      with torch.no_grad():\n",
        "        representation1 = representation_function(observation1)[0]\n",
        "        representation2 = representation_function(observation2)[0]\n",
        "      feature_vector = torch.mean(torch.abs(representation1 - representation2), axis=0) \n",
        "      #print(\"feature vector: \", feature_vector)\n",
        "\n",
        "    # If we are using this functino for calculating MIG, return representation1, factors1\n",
        "    if mode == 'MIG':\n",
        "      return representation1, factors1\n",
        "    else:\n",
        "      return index, feature_vector"
      ],
      "metadata": {
        "id": "rjatU8b9Q7vm"
      },
      "execution_count": null,
      "outputs": []
    },
    {
      "cell_type": "code",
      "source": [
        "def _generate_training_batch(ground_truth_data, representation_function,\n",
        "                             batch_size, num_points, random_state, density, repr='VAE', mode='higgins'):\n",
        "    \"\"\"Sample a set of training samples based on a batch of ground-truth data.\n",
        "\n",
        "    Args:\n",
        "      ground_truth_data: GroundTruthData to be sampled from.\n",
        "      representation_function: Function that takes observations as input and\n",
        "        outputs a dim_representation sized representation for each observation.\n",
        "      batch_size: Number of points to be used to compute the training_sample.\n",
        "      num_points: Number of points to be sampled for training set.\n",
        "      random_state: Numpy random state used for randomness.\n",
        "\n",
        "    Returns:\n",
        "      points: (num_points, dim_representation)-sized numpy array with training set\n",
        "        features.\n",
        "      labels: (num_points)-sized numpy array with training set labels.\n",
        "    \"\"\"\n",
        "    \n",
        "    # If we're using this function for MIG, return encoded_repr, true_factors\n",
        "    print(\"mode: \", mode)\n",
        "    if mode == 'MIG':\n",
        "      true_factors = []\n",
        "      encoded_repr = []\n",
        "      for i in range(num_points):\n",
        "        encoded, factors = _generate_training_sample(ground_truth_data,\\\n",
        "        representation_function, batch_size, random_state, density, repr, mode='MIG')\n",
        "        true_factors.append(factors)\n",
        "        encoded_repr.append(encoded)\n",
        "      return encoded_repr, true_factors\n",
        "\n",
        "   # If we're using this function for higgins, return points, labels\n",
        "    if mode == 'higgins':\n",
        "      \n",
        "      points = None # Dimensionality depends on the representation function.\n",
        "      labels = np.zeros(num_points, dtype=np.int64)\n",
        "      for i in range(num_points):\n",
        "          labels[i], feature_vector = _generate_training_sample(\n",
        "              ground_truth_data, representation_function, batch_size, random_state, density, repr, mode='higgins')\n",
        "          #print(\"feature_vector: \", feature_vector.shape, feature_vector)\n",
        "          if points is None:\n",
        "              points = np.zeros((num_points, feature_vector.shape[0]))\n",
        "          points[i, :] = feature_vector\n",
        "    \n",
        "      return points, labels"
      ],
      "metadata": {
        "id": "ppYrT0cMQ8xm"
      },
      "execution_count": null,
      "outputs": []
    },
    {
      "cell_type": "code",
      "source": [
        "import torch.nn.functional as F\n",
        "class linear_metric(nn.Module):\n",
        "    def __init__(self, inputDim, outputDim=6): # orig: zfeatureDim=32*20*20, Dim=256\n",
        "      super(linear_metric, self).__init__()\n",
        "      self.inputDim = inputDim\n",
        "      self.linear1 = nn.Linear(inputDim, outputDim)\n",
        "    def forward(self, x):\n",
        "      x = self.linear1(x)\n",
        "      x = F.log_softmax(x)\n",
        "      return x\n",
        "\n",
        "def train_classifier(model, loss_fn, train_data, labels, optimizer, num_epoch=3):\n",
        "  for e in range(num_epoch):\n",
        "    for i, x in enumerate(train_data):\n",
        "      model.train()\n",
        "      out = model(x)\n",
        "      #print(\"out: \", out)\n",
        "      #pred = torch.argmax(out).unsqueeze(0).long()\n",
        "      lab = labels[i].long()\n",
        "      #print(\"pred: \", pred, pred.type())\n",
        "      #print(\"label: \", lab, lab.type())\n",
        "      loss = loss_fn(out, lab)\n",
        "      optimizer.zero_grad()\n",
        "      loss.backward()\n",
        "      optimizer.step()\n",
        "    print('Epoch {}: Loss {}'.format(e, loss))\n",
        "  #return model"
      ],
      "metadata": {
        "id": "LwL7E0gdQ8vM"
      },
      "execution_count": null,
      "outputs": []
    },
    {
      "cell_type": "code",
      "source": [
        "gin.enter_interactive_mode()\n",
        "@gin.configurable(\n",
        "    \"beta_vae_sklearn\",\n",
        "    denylist=[\"ground_truth_data\", \"representation_function\", \"random_state\",\n",
        "               \"artifact_dir\"])\n",
        "def compute_beta_vae_sklearn(ground_truth_data,\n",
        "                             representation_function,\n",
        "                             random_state,\n",
        "                             repr='VAE',\n",
        "                             artifact_dir=None,\n",
        "                             batch_size=16,\n",
        "                             num_train=gin.REQUIRED,\n",
        "                             num_eval=gin.REQUIRED,\n",
        "                             clf=linear_model.LogisticRegression,\n",
        "                             density=1):    \n",
        "    \"\"\"Computes the BetaVAE disentanglement metric using scikit-learn.\n",
        "\n",
        "    Args:\n",
        "      ground_truth_data: GroundTruthData to be sampled from.\n",
        "      representation_function: Function that takes observations as input and\n",
        "        outputs a dim_representation sized representation for each observation.\n",
        "      random_state: Numpy random state used for randomness.\n",
        "      artifact_dir: Optional path to directory where artifacts can be saved.\n",
        "      batch_size: Number of points to be used to compute the training_sample.\n",
        "      num_train: Number of points used for training.\n",
        "      num_eval: Number of points used for evaluation.\n",
        "\n",
        "    Returns:\n",
        "      Dictionary with scores:\n",
        "        train_accuracy: Accuracy on training set.\n",
        "        eval_accuracy: Accuracy on evaluation set.\n",
        "    \"\"\"\n",
        "    del artifact_dir\n",
        "    print(\"generating training\")\n",
        "    logging.info(\"Generating training set.\")\n",
        "    #print(\"batch size: \", batch_size)\n",
        "    train_points, train_labels = _generate_training_batch(\n",
        "        ground_truth_data, representation_function, batch_size, num_train,\n",
        "        random_state,density, repr)\n",
        "    \n",
        "    print(\"Generated training\")\n",
        "      \n",
        "    logging.info(\"Generating evaluation set.\")\n",
        "    eval_points, eval_labels = _generate_training_batch(\n",
        "        ground_truth_data, representation_function, batch_size, num_eval,\n",
        "        random_state,density, repr)\n",
        "    \n",
        "    logging.info(\"Training sklearn model.\")\n",
        "    model = clf(random_state=random_state)\n",
        "    model.fit(train_points, train_labels)\n",
        "\n",
        "    logging.info(\"Evaluate training set accuracy.\")\n",
        "    train_accuracy = model.score(train_points, train_labels)\n",
        "    train_accuracy = np.mean(model.predict(train_points) == train_labels)\n",
        "    logging.info(\"Training set accuracy: %.2g\", train_accuracy)\n",
        "\n",
        "    logging.info(\"Generating evaluation set.\")\n",
        "    print(\"Generating evaluation\")\n",
        "    eval_points, eval_labels = _generate_training_batch(\n",
        "        ground_truth_data, representation_function, batch_size, num_eval,\n",
        "        random_state,density, repr)\n",
        "\n",
        "    print(\"Generated evaluation\")\n",
        "    logging.info(\"Evaluate evaluation set accuracy.\")\n",
        "    eval_accuracy = model.score(eval_points, eval_labels)\n",
        "    logging.info(\"Evaluation set accuracy: %.2g\", eval_accuracy)\n",
        "    scores_dict = {}\n",
        "    scores_dict[\"beta_vae_train_accuracy\"] = train_accuracy\n",
        "    scores_dict[\"beta_vae_eval_accuracy\"] = eval_accuracy\n",
        "    return scores_dict"
      ],
      "metadata": {
        "id": "h5oEd0bGQ8s2"
      },
      "execution_count": null,
      "outputs": []
    },
    {
      "cell_type": "markdown",
      "source": [
        "## Mutual Information Gap (MIG) Metric\n",
        "from [Isolating Sources of Disentanglement in VAEs](https://arxiv.org/abs/1802.04942)\n",
        "\n",
        "Reference: https://github.com/google-research/disentanglement_lib"
      ],
      "metadata": {
        "id": "W-uEH4PTZZz4"
      }
    },
    {
      "cell_type": "code",
      "source": [
        "# Mutual Information Gap Metric\n",
        "from sklearn import metrics\n",
        "\n",
        "def discretise(l, num_bins):\n",
        "  # given latents_z[:,i], use np.histogram to get boundaries\n",
        "  edges = (np.histogram(l, num_bins)[1])[:-1]\n",
        "  digitized = np.digitize(l, edges)\n",
        "  return digitized # 1, 2, 3, ...\n",
        " \n",
        "def calculate_entropy(l):\n",
        "  # note everything's in base e\n",
        "  return metrics.mutual_info_score(l, l)\n",
        "\n",
        "\n",
        "# Inputs: true factor and represented latents\n",
        "# Returns: MIG score\n",
        "def calculate_mi(true_factors, latents, num_bins=20):\n",
        "  all_fac_mi = []\n",
        "  for i, f in enumerate(range(true_factors.shape[1])):\n",
        "    factor = true_factors[:, i] # n * 1\n",
        "    print(\"factor: \", factor.shape)\n",
        "    # Calculate entropy\n",
        "    factor_entropy = calculate_entropy(factor)\n",
        "    print(\"entropy: \", factor_entropy)\n",
        "    if factor_entropy == 0: continue\n",
        "    all_mi = []\n",
        "    for j, lat in enumerate(range(latents.shape[1])):\n",
        "      # print(\"j: \",j)\n",
        "      latent = latents[:, j] # n * 1\n",
        "      # print(\"l: \", latent.shape)\n",
        "      # Calculate mutual information score\n",
        "      discretised_latent = discretise(latent, num_bins)\n",
        "      # print(\"latent: \",discretised_latent )\n",
        "      # print(\"fac: \", factor)\n",
        "      mi = metrics.mutual_info_score(factor, discretised_latent)\n",
        "      # print(\"mi: \", mi)\n",
        "      all_mi.append(mi)\n",
        "\n",
        "    sorted_mi = sorted(all_mi, reverse=True)\n",
        "    print(\"sorted mi: \", sorted_mi)\n",
        "    \n",
        "    # Difference between top 2\n",
        "    assert len(sorted_mi) > 1\n",
        "    \n",
        "    mig = sorted_mi[0] - sorted_mi[1]\n",
        "    normalised_mig = mig / factor_entropy\n",
        "    all_fac_mi.append(normalised_mig)\n",
        "  avg_fac_mi = np.nanmean(all_fac_mi[1:])  # disregard first latent since it's always 0\n",
        "  print(\"all_fac_mi: \", all_fac_mi)\n",
        "  print(\"avg: \", avg_fac_mi)\n",
        "  return avg_fac_mi\n",
        "\n",
        "def get_MI(L, ground_truth_data, representation_function, model_type,\\\n",
        "           num_train_data=2000, density=1, mode=\"MIG\", num_bins=20):\n",
        "  random_state = np.random.RandomState(0)\n",
        "  latents, true_factors = _generate_training_batch(\n",
        "          ground_truth_data, representation_function, L, num_train_data,\n",
        "          random_state,density, repr=model_type, mode=mode)\n",
        "  \n",
        "\n",
        "  latents_z = np.array([res.detach().numpy() if torch.is_tensor(res) else res for res in latents]).squeeze(1)\n",
        "  factors_x = np.array([res for res in true_factors]).squeeze(1)\n",
        "\n",
        "  score = calculate_mi(factors_x, latents_z, num_bins)\n",
        "  return score\n",
        "  "
      ],
      "metadata": {
        "id": "UuBV7Ft7EAQ3"
      },
      "execution_count": null,
      "outputs": []
    },
    {
      "cell_type": "markdown",
      "source": [
        "## Dummy Data and Ground Truth "
      ],
      "metadata": {
        "id": "Z3w6cV6tRvAS"
      }
    },
    {
      "cell_type": "code",
      "source": [
        "class GroundTruthData(object):\n",
        "    \"\"\"Abstract class for data sets that are two-step generative models.\"\"\"\n",
        "    tf_format = False\n",
        "    supervision = True\n",
        "    @property\n",
        "    def num_factors(self):\n",
        "        raise NotImplementedError()\n",
        "\n",
        "    @property\n",
        "    def factors_num_values(self):\n",
        "        raise NotImplementedError()\n",
        "\n",
        "    @property\n",
        "    def observation_shape(self):\n",
        "        raise NotImplementedError()\n",
        "\n",
        "    def sample_factors(self, num, random_state):\n",
        "        \"\"\"Sample a batch of factors Y.\"\"\"\n",
        "        raise NotImplementedError()\n",
        "\n",
        "    def sample_observations_from_factors(self, factors, random_state):\n",
        "        \"\"\"Sample a batch of observations X given a batch of factors Y.\"\"\"\n",
        "        raise NotImplementedError()\n",
        "\n",
        "    def sample(self, num, random_state):\n",
        "        \"\"\"Sample a batch of factors Y and observations X.\"\"\"\n",
        "        factors = self.sample_factors(num, random_state)\n",
        "        return factors, self.sample_observations_from_factors(factors, random_state)\n",
        "\n",
        "    def sample_observations(self, num, random_state):\n",
        "        \"\"\"Sample a batch of observations X.\"\"\"\n",
        "        return self.sample(num, random_state)[1]\n",
        "\n",
        "    #  Compatible for torch DataSet\n",
        "    def __len__(self):\n",
        "        return np.prod(self.factors_num_values)\n",
        "\n",
        "    def latent_factor(self, index):\n",
        "        \"\"\"Get a latent factor from index.\"\"\"\n",
        "        factors = np.zeros(\n",
        "            shape=(1, self.num_factors), dtype=np.int64)\n",
        "        factors_num_values = self.factors_num_values\n",
        "        for pos, i in enumerate(factors_num_values):\n",
        "            num = np.prod(factors_num_values[pos + 1:])\n",
        "            factors[0, pos] = index // num\n",
        "            index %= num\n",
        "        return factors\n",
        "\n",
        "    def __getitem__(self, item):\n",
        "        factors = self.latent_factor(item)\n",
        "        observations = self.sample_observations_from_factors(factors, np.random.RandomState(0))\n",
        "        return observations.transpose((0, 3, 1, 2))[0].astype(np.float32), factors[0]"
      ],
      "metadata": {
        "id": "pZhDY749Q8qj"
      },
      "execution_count": null,
      "outputs": []
    },
    {
      "cell_type": "code",
      "source": [
        "class IdentityObservationsData(GroundTruthData):\n",
        "    \"\"\"Data set where dummy factors are also the observations.\"\"\"\n",
        "\n",
        "    @property\n",
        "    def num_factors(self):\n",
        "        return 10\n",
        "\n",
        "    @property\n",
        "    def observation_shape(self):\n",
        "        return 10\n",
        "\n",
        "    @property\n",
        "    def factors_num_values(self):\n",
        "        return [1] * 10\n",
        "\n",
        "    def sample_factors(self, num, random_state):\n",
        "        \"\"\"Sample a batch of factors Y.\"\"\"\n",
        "        return random_state.random_integers(10, size=(num, self.num_factors))\n",
        "\n",
        "    def sample_observations_from_factors(self, factors, random_state):\n",
        "        \"\"\"Sample a batch of observations X given a batch of factors Y.\"\"\"\n",
        "        return factors\n",
        "\n",
        "    @property\n",
        "    def factor_names(self):\n",
        "        return [\"Factor {}\".format(i) for i in range(self.num_factors)]"
      ],
      "metadata": {
        "id": "nUc-rmBTQ8oM"
      },
      "execution_count": null,
      "outputs": []
    },
    {
      "cell_type": "markdown",
      "source": [
        "## Dataset Util"
      ],
      "metadata": {
        "id": "A3iNId_VR2Pj"
      }
    },
    {
      "cell_type": "code",
      "source": [
        "\"\"\"Various utilities used in the data set code.\"\"\"\n",
        "from __future__ import absolute_import\n",
        "from __future__ import division\n",
        "from __future__ import print_function\n",
        "import numpy as np\n",
        "from six.moves import range\n",
        "\n",
        "class SplitDiscreteStateSpace(object):\n",
        "  \"\"\"State space with factors split between latent variable and observations.\"\"\"\n",
        "\n",
        "  def __init__(self, factor_sizes, latent_factor_indices):\n",
        "    self.factor_sizes = factor_sizes\n",
        "    self.num_factors = len(self.factor_sizes) # 6\n",
        "    self.latent_factor_indices = latent_factor_indices\n",
        "    self.observation_factor_indices = [\n",
        "        i for i in range(self.num_factors)\n",
        "        if i not in self.latent_factor_indices\n",
        "    ]\n",
        "\n",
        "  @property\n",
        "  def num_latent_factors(self):\n",
        "    return len(self.latent_factor_indices)\n",
        "\n",
        "  def sample_latent_factors(self, num, random_state, density=1):\n",
        "    \"\"\"Sample a batch of the latent factors.\"\"\"\n",
        "    factors = np.zeros(\n",
        "        shape=(num, len(self.latent_factor_indices)), dtype=np.int64)\n",
        "    for pos, i in enumerate(self.latent_factor_indices):\n",
        "      factors[:, pos] = self._sample_factor(i, num, random_state, density)\n",
        "    return factors\n",
        "\n",
        "  def sample_all_factors(self, latent_factors, random_state):\n",
        "    \"\"\"Samples the remaining factors based on the latent factors.\"\"\"\n",
        "    num_samples = latent_factors.shape[0]\n",
        "    #print(\"num samples: \", num_samples)\n",
        "    all_factors = np.zeros(\n",
        "        shape=(num_samples, self.num_factors), dtype=np.int64)\n",
        "    all_factors[:, self.latent_factor_indices] = latent_factors\n",
        "    # Complete all the other factors\n",
        "    for i in self.observation_factor_indices:\n",
        "      all_factors[:, i] = self._sample_factor(i, num_samples, random_state)\n",
        "    return all_factors\n",
        "\n",
        "  def _sample_factor(self, i, num, random_state, density):\n",
        "    current_factor_size = self.factor_sizes[i]\n",
        "    if current_factor_size < 30:\n",
        "        density = 1\n",
        "    return random_state.randint(np.round(current_factor_size*density), size=num)\n",
        "\n",
        "\n",
        "class StateSpaceAtomIndex(object):\n",
        "  \"\"\"Index mapping from features to positions of state space atoms.\"\"\"\n",
        "\n",
        "  def __init__(self, factor_sizes, features):\n",
        "    \"\"\"Creates the StateSpaceAtomIndex.\n",
        "    Args:\n",
        "      factor_sizes: List of integers with the number of distinct values for each\n",
        "        of the factors.\n",
        "      features: Numpy matrix where each row contains a different factor\n",
        "        configuration. The matrix needs to cover the whole state space.\n",
        "    \"\"\"\n",
        "    self.factor_sizes = factor_sizes\n",
        "    num_total_atoms = np.prod(self.factor_sizes)\n",
        "    self.factor_bases = num_total_atoms / np.cumprod(self.factor_sizes)\n",
        "    feature_state_space_index = self._features_to_state_space_index(features)\n",
        "    if np.unique(feature_state_space_index).size != num_total_atoms:\n",
        "      raise ValueError(\"Features matrix does not cover the whole state space.\")\n",
        "    lookup_table = np.zeros(num_total_atoms, dtype=np.int64)\n",
        "    lookup_table[feature_state_space_index] = np.arange(num_total_atoms)\n",
        "    self.state_space_to_save_space_index = lookup_table\n",
        "\n",
        "  def features_to_index(self, features):\n",
        "    \"\"\"Returns the indices in the input space for given factor configurations.\n",
        "    Args:\n",
        "      features: Numpy matrix where each row contains a different factor\n",
        "        configuration for which the indices in the input space should be\n",
        "        returned.\n",
        "    \"\"\"\n",
        "    state_space_index = self._features_to_state_space_index(features)\n",
        "    return self.state_space_to_save_space_index[state_space_index]\n",
        "\n",
        "  def _features_to_state_space_index(self, features):\n",
        "    \"\"\"Returns the indices in the atom space for given factor configurations.\n",
        "    Args:\n",
        "      features: Numpy matrix where each row contains a different factor\n",
        "        configuration for which the indices in the atom space should be\n",
        "        returned.\n",
        "    \"\"\"\n",
        "    if (np.any(features > np.expand_dims(self.factor_sizes, 0)) or\n",
        "        np.any(features < 0)):\n",
        "      raise ValueError(\"Feature indices have to be within [0, factor_size-1]!\")\n",
        "    return np.array(np.dot(features, self.factor_bases), dtype=np.int64)"
      ],
      "metadata": {
        "id": "lq6mnV33Q8le"
      },
      "execution_count": null,
      "outputs": []
    },
    {
      "cell_type": "markdown",
      "source": [
        "## Dsprites Data \n",
        "\n",
        "src: https://gitee.com/microcloud/disentanglement_lib"
      ],
      "metadata": {
        "id": "FbWHBblAR9EE"
      }
    },
    {
      "cell_type": "code",
      "source": [
        "#class DSprites(ground_truth_data.GroundTruthData):\n",
        "class DSprites(GroundTruthData):\n",
        "    \"\"\"DSprites dataset.\n",
        "\n",
        "    The data set was originally introduced in \"beta-VAE: Learning Basic Visual\n",
        "    Concepts with a Constrained Variational Framework\" and can be downloaded from\n",
        "    https://github.com/deepmind/dsprites-dataset.\n",
        "\n",
        "    The ground-truth factors of variation are (in the default setting):\n",
        "    0 - shape (3 different values)\n",
        "    1 - scale (6 different values)\n",
        "    2 - orientation (40 different values)\n",
        "    3 - position x (32 different values)\n",
        "    4 - position y (32 different values)\n",
        "    \"\"\"\n",
        "\n",
        "    def __init__(self, latent_factor_indices=None):\n",
        "        # By default, all factors (including shape) are considered ground truth\n",
        "        # factors.\n",
        "        if latent_factor_indices is None:\n",
        "            latent_factor_indices = list(range(6))\n",
        "        self.latent_factor_indices = latent_factor_indices # [0, 1, 2, 3, 4, 5]\n",
        "        self.data_shape = [64, 64, 1] # 1 means only 1 channel, since no colour\n",
        "        # Load the data so that we can sample from it.\n",
        "        DSPRITES_PATH = '/content/drive/MyDrive/dsprites/dsprites_ndarray_co1sh3sc6or40x32y32_64x64.npz'\n",
        "        with open(DSPRITES_PATH, \"rb\") as data_file:\n",
        "            # Data was saved originally using python2, so we need to set the encoding.\n",
        "            data = np.load(data_file, encoding=\"latin1\", allow_pickle=True)\n",
        "            self.images = np.array(data[\"imgs\"])\n",
        "            print(\"image size: \", self.images.shape)\n",
        "            self.factor_sizes = np.array(\n",
        "                data[\"metadata\"][()][\"latents_sizes\"], dtype=np.int64)\n",
        "        self.full_factor_sizes = [1, 3, 6, 40, 32, 32]\n",
        "        self.factor_bases = np.prod(self.factor_sizes) / np.cumprod(\n",
        "            self.factor_sizes)\n",
        "        #self.state_space = util.SplitDiscreteStateSpace(self.factor_sizes,\n",
        "        #                                                self.latent_factor_indices)\n",
        "\n",
        "\n",
        "        self.state_space = SplitDiscreteStateSpace(self.factor_sizes,\n",
        "                                                   self.latent_factor_indices)\n",
        "    @property\n",
        "    def num_factors(self):\n",
        "        return self.state_space.num_latent_factors\n",
        "\n",
        "    @property\n",
        "    def factors_num_values(self):\n",
        "        return [self.full_factor_sizes[i] for i in self.latent_factor_indices]\n",
        "\n",
        "    @property\n",
        "    def observation_shape(self):\n",
        "        return self.data_shape\n",
        "\n",
        "    def sample_factors(self, num, random_state, density=1):\n",
        "        \"\"\"Sample a batch of factors Y.\"\"\"\n",
        "        return self.state_space.sample_latent_factors(num, random_state, density)\n",
        "\n",
        "    def sample_observations_from_factors(self, factors, random_state):\n",
        "        return self.sample_observations_from_factors_no_color(factors, random_state)\n",
        "\n",
        "    def sample_observations_from_factors_no_color(self, factors, random_state):\n",
        "        \"\"\"Sample a batch of observations X given a batch of factors Y.\"\"\"\n",
        "        all_factors = self.state_space.sample_all_factors(factors, random_state)\n",
        "        #print(\"all factors: \", all_factors)\n",
        "        indices = np.array(np.dot(all_factors, self.factor_bases), dtype=np.int64)\n",
        "        return np.expand_dims(self.images[indices].astype(np.float32), axis=3)\n",
        "\n",
        "    def _sample_factor(self, i, num, random_state):\n",
        "        return random_state.randint(self.factor_sizes[i], size=num)\n",
        "\n"
      ],
      "metadata": {
        "id": "RX3iA1jCQ8iv"
      },
      "execution_count": null,
      "outputs": []
    },
    {
      "cell_type": "markdown",
      "source": [
        "### Load DSprite"
      ],
      "metadata": {
        "id": "OlWvC42SSCgh"
      }
    },
    {
      "cell_type": "markdown",
      "source": [
        ""
      ],
      "metadata": {
        "id": "JBWkbw1hjN3i"
      }
    },
    {
      "cell_type": "markdown",
      "source": [
        "#### DSprite as class object"
      ],
      "metadata": {
        "id": "Ac4iWPNFSo1v"
      }
    },
    {
      "cell_type": "code",
      "source": [
        "ds = DSprites() # image size:  (737280, 64, 64)\n",
        "print(ds.latent_factor_indices) # [0, 1, 2, 3, 4, 5]"
      ],
      "metadata": {
        "colab": {
          "base_uri": "https://localhost:8080/"
        },
        "id": "opSpC3TLQ8g0",
        "outputId": "1d616e15-1c4d-4c7a-b823-8b73bb663218"
      },
      "execution_count": null,
      "outputs": [
        {
          "output_type": "stream",
          "name": "stdout",
          "text": [
            "image size:  (737280, 64, 64)\n",
            "[0, 1, 2, 3, 4, 5]\n"
          ]
        }
      ]
    },
    {
      "cell_type": "markdown",
      "source": [
        "#### DSprite as numpy array"
      ],
      "metadata": {
        "id": "bzN-JOljSr0H"
      }
    },
    {
      "cell_type": "code",
      "source": [
        "DSPRITES_PATH = '/content/drive/MyDrive/dsprites/dsprites_ndarray_co1sh3sc6or40x32y32_64x64.npz'\n",
        "with open(DSPRITES_PATH, \"rb\") as data_file:\n",
        "  data = np.load(data_file, encoding=\"latin1\", allow_pickle=True)\n",
        "  images = data['imgs']"
      ],
      "metadata": {
        "id": "FAjI5AQhSlsm"
      },
      "execution_count": null,
      "outputs": []
    },
    {
      "cell_type": "markdown",
      "source": [
        "## PCA"
      ],
      "metadata": {
        "id": "QiJa0qdASZnm"
      }
    },
    {
      "cell_type": "code",
      "source": [
        "from sklearn.decomposition import PCA\n",
        "from sklearn.decomposition import FastICA"
      ],
      "metadata": {
        "id": "P8Ll7Yl-Q8eV"
      },
      "execution_count": null,
      "outputs": []
    },
    {
      "cell_type": "code",
      "source": [
        "# Initialize a PCA model with 10 latents \n",
        "pca = PCA(n_components=15, svd_solver=\"randomized\", whiten=True) "
      ],
      "metadata": {
        "id": "ivITtD9fQ8cE"
      },
      "execution_count": null,
      "outputs": []
    },
    {
      "cell_type": "code",
      "source": [
        "# sample a subset (70000 ~8%) of the original dataset to run PCA due to memory limit\n",
        "num_img = len(images)\n",
        "rand_ind_small = np.random.randint(0, num_img, 70000)\n",
        "train_imgs_small = images[rand_ind_small, :] \n",
        "print(train_imgs_small.shape)"
      ],
      "metadata": {
        "colab": {
          "base_uri": "https://localhost:8080/"
        },
        "id": "JrmU0BJCQ8Zq",
        "outputId": "964ef007-06a0-4c23-ec3f-3c6d7d670ac9"
      },
      "execution_count": null,
      "outputs": [
        {
          "output_type": "stream",
          "name": "stdout",
          "text": [
            "(70000, 64, 64)\n"
          ]
        }
      ]
    },
    {
      "cell_type": "code",
      "source": [
        "# Fit PCA\n",
        "train_imgs_small = train_imgs_small.reshape(train_imgs_small.shape[0], -1)\n",
        "pca.fit(train_imgs_small)"
      ],
      "metadata": {
        "colab": {
          "base_uri": "https://localhost:8080/"
        },
        "id": "bcsw8LAXQ8XR",
        "outputId": "4cf9b2a0-a060-4c7a-cc73-229f3015a895"
      },
      "execution_count": null,
      "outputs": [
        {
          "output_type": "execute_result",
          "data": {
            "text/plain": [
              "PCA(n_components=15, svd_solver='randomized', whiten=True)"
            ]
          },
          "metadata": {},
          "execution_count": 46
        }
      ]
    },
    {
      "cell_type": "code",
      "source": [
        "# 10 components explain 60.8% of the data as stated in the paper\n",
        "pca.explained_variance_ratio_.sum()"
      ],
      "metadata": {
        "colab": {
          "base_uri": "https://localhost:8080/"
        },
        "id": "lptbUf1rQ8VI",
        "outputId": "231a3964-6b86-48de-ac0d-ca9b7983e5c4"
      },
      "execution_count": null,
      "outputs": [
        {
          "output_type": "execute_result",
          "data": {
            "text/plain": [
              "0.6843325375673037"
            ]
          },
          "metadata": {},
          "execution_count": 47
        }
      ]
    },
    {
      "cell_type": "markdown",
      "source": [
        "### PCA Metric Evaluation"
      ],
      "metadata": {
        "id": "QEMJu1oWfmD7"
      }
    },
    {
      "cell_type": "code",
      "source": [
        "# Run metric \n",
        "L = 16\n",
        "ground_truth_data = ds\n",
        "representation_function = pca.transform\n",
        "random_state = np.random.RandomState(0)\n",
        "scores = compute_beta_vae_sklearn(ground_truth_data, representation_function, random_state, 'PCA', None, L, 2000, 2000)\n"
      ],
      "metadata": {
        "colab": {
          "base_uri": "https://localhost:8080/"
        },
        "id": "nqWF1q6CQ8Su",
        "outputId": "4f6dc53a-8453-42d7-f075-b3e7d5dfd8da"
      },
      "execution_count": null,
      "outputs": [
        {
          "output_type": "stream",
          "name": "stdout",
          "text": [
            "generating training\n",
            "mode:  higgins\n",
            "Generated training\n",
            "mode:  higgins\n"
          ]
        },
        {
          "output_type": "stream",
          "name": "stderr",
          "text": [
            "/usr/local/lib/python3.7/dist-packages/sklearn/linear_model/_logistic.py:818: ConvergenceWarning: lbfgs failed to converge (status=1):\n",
            "STOP: TOTAL NO. of ITERATIONS REACHED LIMIT.\n",
            "\n",
            "Increase the number of iterations (max_iter) or scale the data as shown in:\n",
            "    https://scikit-learn.org/stable/modules/preprocessing.html\n",
            "Please also refer to the documentation for alternative solver options:\n",
            "    https://scikit-learn.org/stable/modules/linear_model.html#logistic-regression\n",
            "  extra_warning_msg=_LOGISTIC_SOLVER_CONVERGENCE_MSG,\n"
          ]
        },
        {
          "output_type": "stream",
          "name": "stdout",
          "text": [
            "Generating evaluation\n",
            "mode:  higgins\n",
            "Generated evaluation\n"
          ]
        }
      ]
    },
    {
      "cell_type": "code",
      "source": [
        "scores"
      ],
      "metadata": {
        "colab": {
          "base_uri": "https://localhost:8080/"
        },
        "id": "DG0BlrPvUSzY",
        "outputId": "ecf72007-52bb-4c0a-d0ea-ca8a3566447e"
      },
      "execution_count": null,
      "outputs": [
        {
          "output_type": "execute_result",
          "data": {
            "text/plain": [
              "{'beta_vae_eval_accuracy': 0.524, 'beta_vae_train_accuracy': 0.5735}"
            ]
          },
          "metadata": {},
          "execution_count": 49
        }
      ]
    },
    {
      "cell_type": "code",
      "source": [
        "representation_function = pca.transform\n",
        "# MIG\n",
        "res_MIG = get_MI(1, ds, representation_function, model_type='PCA', num_train_data=2000, density=1, num_bins=50)\n"
      ],
      "metadata": {
        "colab": {
          "base_uri": "https://localhost:8080/"
        },
        "id": "4ZAzyHMUMXZk",
        "outputId": "3c07d682-4eb1-4d3f-ab8a-e7702bf3e820"
      },
      "execution_count": null,
      "outputs": [
        {
          "output_type": "stream",
          "name": "stdout",
          "text": [
            "mode:  MIG\n",
            "factor:  (2000,)\n",
            "entropy:  0.0\n",
            "factor:  (2000,)\n",
            "entropy:  1.098589573243842\n",
            "sorted mi:  [0.06441722402307648, 0.06173907344958178, 0.05946735501218166, 0.05465381221777643, 0.051706722531970825, 0.05097749154972857, 0.04139628543299864, 0.03948873795347417, 0.03734086124507679, 0.03334473717130666, 0.03286154533297056, 0.032807531002316065, 0.02817021257260978, 0.026951449120381415, 0.02688876526830192]\n",
            "factor:  (2000,)\n",
            "entropy:  1.7914736236859397\n",
            "sorted mi:  [0.2675492282904368, 0.26051047508670255, 0.23492492937359916, 0.22634695349465256, 0.22224394244110207, 0.17110925761494036, 0.154085613786484, 0.13571920700569934, 0.12385573504950609, 0.1206623190876798, 0.09848143220228919, 0.08909149567043796, 0.08508685359395496, 0.08141769500770796, 0.07853209082109963]\n",
            "factor:  (2000,)\n",
            "entropy:  3.6805824545065455\n",
            "sorted mi:  [0.5167332204259356, 0.49859828816302765, 0.48111332808749996, 0.4784648041421956, 0.46507869492110643, 0.46361207132231996, 0.4628444745028796, 0.4625452392203139, 0.4593734099350447, 0.45245858194017047, 0.4298043408801405, 0.42698795799401335, 0.42354367081763455, 0.42021950048021917, 0.37965489687768683]\n",
            "factor:  (2000,)\n",
            "entropy:  3.4589834013122136\n",
            "sorted mi:  [0.9806246990282361, 0.6522707076525405, 0.6228601955334145, 0.6146533035597325, 0.5519674807700157, 0.5433692260222022, 0.5377690529819847, 0.529356041504496, 0.5290962617789657, 0.456665127033903, 0.4462045693006242, 0.4335385281904521, 0.4199053425455414, 0.3960004435750859, 0.38177390510327713]\n",
            "factor:  (2000,)\n",
            "entropy:  3.4517860206104474\n",
            "sorted mi:  [0.7481248074211513, 0.6934656334500093, 0.6699943697246544, 0.6505648091298384, 0.5908418858935005, 0.570755491009835, 0.5302308244877696, 0.5286900794912937, 0.5253651471620399, 0.5213561695790359, 0.5114144303472233, 0.4791729061154293, 0.4450905211847784, 0.44480407553532875, 0.43386231297308675]\n",
            "all_fac_mi:  [0.0024378081120748634, 0.003929029772289973, 0.004927190869125444, 0.09492788871179028, 0.015835041235109787]\n",
            "avg:  0.029904787647078872\n"
          ]
        }
      ]
    },
    {
      "cell_type": "markdown",
      "source": [
        "## BetaVAEConv\n",
        "src: https://github.com/jonaswildberger/BetaVAE/blob/main/models/betaVAEConv.py\n"
      ],
      "metadata": {
        "id": "sU6jergvWXaf"
      }
    },
    {
      "cell_type": "markdown",
      "source": [
        "### Model Setup"
      ],
      "metadata": {
        "id": "OXpiTiq9pMCh"
      }
    },
    {
      "cell_type": "code",
      "source": [
        "class BetaVAEConv(nn.Module):\n",
        "  def __init__(self, latent_size=10, beta=1, img_size=(1,64,64)):\n",
        "    super(BetaVAEConv, self).__init__()\n",
        "    hidden_channels = 32\n",
        "    hidden_channels2 = 64\n",
        "    kernel_size = 4\n",
        "    hidden_dim = 256\n",
        "    self.latent_size = latent_size\n",
        "    self.beta = beta\n",
        "    num_chan = img_size[0]\n",
        "\n",
        "    cnn_kwargs = {'stride': 2, \"padding\": 1}\n",
        "    self.conv1 = nn.Conv2d(num_chan, hidden_channels, kernel_size, **cnn_kwargs)\n",
        "    self.conv2 = nn.Conv2d(hidden_channels, hidden_channels2, kernel_size, **cnn_kwargs)\n",
        "    self.conv3 = nn.Conv2d(hidden_channels2, hidden_channels2, kernel_size, **cnn_kwargs)\n",
        "    \n",
        "    self.conv_64 = nn.Conv2d(hidden_channels2, hidden_channels2, kernel_size, **cnn_kwargs)\n",
        "\n",
        "    self.fc1 = nn.Linear(hidden_channels2 * kernel_size * kernel_size, hidden_dim)\n",
        "    self.mulogvar = nn.Linear(hidden_dim, self.latent_size * 2)\n",
        "\n",
        "    self.linear1 = nn.Linear(latent_size, hidden_dim)\n",
        "    self.linear2 = nn.Linear(hidden_dim, hidden_dim)\n",
        "    self.linear3 = nn.Linear(hidden_dim, hidden_channels * kernel_size * kernel_size)\n",
        "\n",
        "    self.convT1 = nn.ConvTranspose2d(hidden_channels, hidden_channels, kernel_size, **cnn_kwargs)\n",
        "    self.convT2 = nn.ConvTranspose2d(hidden_channels, hidden_channels, kernel_size, **cnn_kwargs)\n",
        "    self.convT3 = nn.ConvTranspose2d(hidden_channels, num_chan, kernel_size, **cnn_kwargs)\n",
        "    self.convT_64 = nn.ConvTranspose2d(hidden_channels, hidden_channels, kernel_size, **cnn_kwargs)\n",
        "\n",
        "  def encode(self, input):\n",
        "    bs = input.shape[0]\n",
        "    x = torch.relu(self.conv1(input))\n",
        "    x = torch.relu(self.conv2(x))\n",
        "    x = torch.relu(self.conv3(x))\n",
        "    x = torch.relu(self.conv_64(x))\n",
        "\n",
        "    x = x.view((bs, -1))\n",
        "    x = torch.relu(self.fc1(x))\n",
        "\n",
        "    mu_logvar = self.mulogvar(x)\n",
        "    mu, logvar = mu_logvar.view(-1, self.latent_size, 2).unbind(-1)\n",
        "    return mu, logvar\n",
        "\n",
        "  def decode(self, input):\n",
        "    bs = input.size(0)\n",
        "    x = torch.relu(self.linear1(input))\n",
        "    x = torch.relu(self.linear2(x))\n",
        "    x = torch.relu(self.linear3(x))\n",
        "    x = x.view(bs, 32, 4, 4)\n",
        "\n",
        "    x = torch.relu(self.convT_64(x))\n",
        "    \n",
        "    x = torch.relu(self.convT1(x))\n",
        "    x = torch.relu(self.convT2(x))\n",
        "     # Sigmoid activation for final conv layer\n",
        "    x = torch.sigmoid(self.convT3(x))\n",
        "    return x\n",
        "\n",
        "  def reparameterize(self, mu, logvar):\n",
        "    std = torch.exp(0.5 * logvar)\n",
        "    eps = torch.randn_like(std)\n",
        "    return eps * std + mu\n",
        "  \n",
        "  def forward(self, input, **kwargs):\n",
        "    mu, logvar = self.encode(input)\n",
        "    z = self.reparameterize(mu, logvar)\n",
        "    return self.decode(z), mu, logvar\n",
        "  \n",
        "  def loss_fn(self, recon, x, mu, log_var):\n",
        "    bs = x.size(0)\n",
        "    recon_loss = F.binary_cross_entropy(recon, x, reduction='sum')\n",
        "    latent_kl = -0.5 * (1 + log_var - mu ** 2 - log_var.exp()).sum(dim=0)\n",
        "    kld_loss = torch.sum(latent_kl)\n",
        "    loss = recon_loss + self.beta * kld_loss\n",
        "    return loss\n"
      ],
      "metadata": {
        "id": "leEZsp4dWXKg"
      },
      "execution_count": null,
      "outputs": []
    },
    {
      "cell_type": "code",
      "source": [
        "\"\"\"\n",
        "Training the network for a given number of epochs\n",
        "The loss after every epoch is printed\n",
        "\"\"\"\n",
        "def train_conv(num_epoch, train_loader, net, optimizer, device):\n",
        "  for epoch in range(num_epoch): \n",
        "      epoch_loss = 0\n",
        "      print(\"epoch: \", epoch)\n",
        "      for idx, data in enumerate(train_loader):\n",
        "          net.to(device)\n",
        "          net.train()\n",
        "          imgs = data\n",
        "          imgs = imgs.to(device).float()\n",
        "          optimizer.zero_grad()\n",
        "          imgs = imgs.unsqueeze(1)\n",
        "          #print(\"img shape: \", imgs.shape)\n",
        "          # Feeding a batch of images into the network to obtain the output image, mu, and logVar\n",
        "          recon_batch, mu, logVar = net(imgs)\n",
        "\n",
        "          # The loss is the BCE loss combined with the KL divergence to ensure the distribution is learnt\n",
        "          loss = net.loss_fn(recon_batch, imgs, mu,logVar)#/len(data)\n",
        "          \n",
        "          # Backpropagation based on the loss\n",
        "          loss.backward()\n",
        "          optimizer.step()\n",
        "          epoch_loss += loss.item()\n",
        "\n",
        "      mean_epoch_loss = epoch_loss / len(train_loader)\n",
        "      print('Epoch {}: Loss {}'.format(epoch, mean_epoch_loss))"
      ],
      "metadata": {
        "id": "KLayG1wIctpf"
      },
      "execution_count": null,
      "outputs": []
    },
    {
      "cell_type": "code",
      "source": [
        "import matplotlib.pyplot as plt\n",
        "\n",
        "def recon_samples(samp1_idx, samp2_idx, images, net):\n",
        "  first = images[samp1_idx]\n",
        "  print(first.shape)\n",
        "  first_tensor = torch.tensor(first).float().unsqueeze(0).unsqueeze(0)\n",
        "\n",
        "\n",
        "  print(\"first tensor shape: \", first_tensor.shape)\n",
        "  enc = net.cpu().encode\n",
        "  dec = net.cpu().decode\n",
        "  enc_first = enc(first_tensor)[0]\n",
        "  print(\"enc_first: \",enc_first.shape)\n",
        "  #dec_first = dec(enc_first)[0].squeeze(0)\n",
        "  dec_first = dec(enc_first)#.squeeze(0)\n",
        "  print(\"dec_first: \",dec_first.shape)\n",
        "\n",
        "\n",
        "  last = images[samp2_idx]\n",
        "  last_tensor = torch.tensor(last).float().unsqueeze(0).unsqueeze(0)\n",
        "\n",
        "  print(\"last tensor shape: \", last_tensor.shape)\n",
        "  enc_last = enc(last_tensor)[0]\n",
        "  dec_last = dec(enc_last)[0].squeeze(0)\n",
        "\n",
        "  net.eval()\n",
        "  with torch.no_grad():\n",
        "    plt.subplot(221)\n",
        "\n",
        "    plt.imshow(first)\n",
        "\n",
        "    plt.subplot(222)\n",
        "    plt.imshow(last)\n",
        "\n",
        "    plt.subplot(223)\n",
        "    plt.imshow(dec_first.squeeze(0).squeeze(0))\n",
        "\n",
        "    plt.subplot(224)\n",
        "    plt.imshow(dec_last.squeeze(0).squeeze(0))\n",
        "\n",
        "  \n"
      ],
      "metadata": {
        "id": "7lx_Yj3ac2n1"
      },
      "execution_count": null,
      "outputs": []
    },
    {
      "cell_type": "code",
      "source": [
        "\"\"\"\n",
        "dim_to_interpolate = [0-9]\n",
        "\"\"\"\n",
        "def interpolate(samp_idx, images, net, dim_to_interpolate=0):\n",
        "  plt.figure(figsize=(10,15))\n",
        "  plt.gray()\n",
        "  first = images[samp_idx]\n",
        "  print(first.shape)\n",
        "  ## BetaVAE:\n",
        "  first_tensor = torch.tensor(first).float().unsqueeze(0).unsqueeze(0)\n",
        "  ## VAE_2d:\n",
        "  #first_tensor = torch.tensor(first).float().reshape(-1,4096)\n",
        "  print(\"first tensor shape: \", first_tensor.shape)\n",
        "  enc = net.cpu().encode\n",
        "  enc_first = enc(first_tensor)[0]\n",
        "  #print(\"enc_first: \", enc_first, enc_first.shape)\n",
        "  base_lat = enc_first.repeat((6, 1))\n",
        "\n",
        "  #print(base_lat)\n",
        "  first_dim = torch.tensor(np.linspace(-3,3, 6))\n",
        "  print(first_dim)\n",
        "  base_lat[:, dim_to_interpolate] = first_dim\n",
        "  #print(base_lat)\n",
        "\n",
        "  dec = net.cpu().decode\n",
        "  ## BetaVAE:\n",
        "  dec_first = dec(base_lat)#.squeeze(0)\n",
        "  ## VAE_2d:\n",
        "  #dec_first = dec_first.reshape(-1, 64,64)\n",
        "\n",
        "\n",
        "  print(dec_first.shape)\n",
        "\n",
        "  print(dec_first[0].shape)\n",
        "  with torch.no_grad():\n",
        "    \n",
        "    plt.subplot(161)\n",
        "    plt.axis('off')\n",
        "    plt.subplots_adjust(hspace = 1, right = 5)\n",
        "    plt.imshow(dec_first[0].squeeze(0))\n",
        "\n",
        "\n",
        "    plt.subplot(162)\n",
        "    plt.subplots_adjust(hspace = 1, right = 5)\n",
        "    plt.axis('off')\n",
        "    plt.imshow(dec_first[1].squeeze(0))\n",
        "\n",
        "    plt.subplot(163)\n",
        "    plt.axis('off')\n",
        "    plt.imshow(dec_first[2].squeeze(0))\n",
        "\n",
        "    plt.subplot(164)\n",
        "    plt.axis('off')\n",
        "    plt.imshow(dec_first[3].squeeze(0))\n",
        "\n",
        "    plt.subplot(165)\n",
        "    plt.axis('off')\n",
        "    plt.imshow(dec_first[4].squeeze(0))\n",
        "\n",
        "    plt.subplot(166)\n",
        "    plt.axis('off')\n",
        "    plt.imshow(dec_first[5].squeeze(0))\n",
        "  plt.savefig('beta3_plot.png', bbox_inches = 'tight')\n"
      ],
      "metadata": {
        "id": "SWsjQM2TczNP"
      },
      "execution_count": null,
      "outputs": []
    },
    {
      "cell_type": "code",
      "source": [
        "def train_classifier(L, ground_truth_data, representation_function, model_type='BetaVAE', num_train_data=2000, clf=linear_model.LogisticRegression, density=1):\n",
        "  random_state = np.random.RandomState(0)\n",
        "  scores = compute_beta_vae_sklearn(ground_truth_data, representation_function, random_state, model_type, None, L, 2000, 2000,clf=clf, density=density)\n",
        "  return scores"
      ],
      "metadata": {
        "id": "DarnQl0Cc7BK"
      },
      "execution_count": null,
      "outputs": []
    },
    {
      "cell_type": "markdown",
      "source": [
        "### Train Beta=0.1"
      ],
      "metadata": {
        "id": "TKwqbytvIhNz"
      }
    },
    {
      "cell_type": "code",
      "source": [
        "\"\"\"\n",
        "Initialize Hyperparameters\n",
        "\"\"\"\n",
        "device = torch.device('cuda' if torch.cuda.is_available() else 'cpu')\n",
        "batch_size = 128\n",
        "learning_rate = 1e-3 #5e-4\n",
        "num_epochs = 5\n",
        "beta = 0.1\n",
        "netConv01 = BetaVAEConv(beta=beta).to(device)\n",
        "optimizer_netConv01 = torch.optim.Adam(netConv01.parameters(), lr=learning_rate)"
      ],
      "metadata": {
        "id": "L7LpRVY9IhNz"
      },
      "execution_count": null,
      "outputs": []
    },
    {
      "cell_type": "code",
      "source": [
        "DSPRITES_PATH = '/content/drive/MyDrive/dsprites/dsprites_ndarray_co1sh3sc6or40x32y32_64x64.npz'\n",
        "with open(DSPRITES_PATH, \"rb\") as data_file:\n",
        "  data = np.load(data_file, encoding=\"latin1\", allow_pickle=True)\n",
        "  images = data['imgs']\n",
        "  \n",
        "train_loader_full_conv01 = torch.utils.data.DataLoader(images, batch_size=batch_size, shuffle=True) # each batch: [128, 64, 64]"
      ],
      "metadata": {
        "id": "JJ_HrNDuIhN0"
      },
      "execution_count": null,
      "outputs": []
    },
    {
      "cell_type": "code",
      "source": [
        "train_conv(num_epochs, train_loader_full_conv01, netConv01, optimizer_netConv01, device)"
      ],
      "metadata": {
        "colab": {
          "base_uri": "https://localhost:8080/"
        },
        "outputId": "27842324-7795-48bf-9522-baa8d1123d66",
        "id": "CdBWK5cvIhN0"
      },
      "execution_count": null,
      "outputs": [
        {
          "output_type": "stream",
          "name": "stdout",
          "text": [
            "epoch:  0\n",
            "Epoch 0: Loss 41943.73846299913\n",
            "epoch:  1\n",
            "Epoch 1: Loss 7866.530048963758\n",
            "epoch:  2\n",
            "Epoch 2: Loss 5954.661558787028\n",
            "epoch:  3\n",
            "Epoch 3: Loss 4207.135565270318\n",
            "epoch:  4\n",
            "Epoch 4: Loss 3533.3729423099094\n"
          ]
        }
      ]
    },
    {
      "cell_type": "code",
      "source": [
        "recon_samples(2, 38217, images, netConv01)"
      ],
      "metadata": {
        "colab": {
          "base_uri": "https://localhost:8080/",
          "height": 358
        },
        "outputId": "b40257dc-ac56-496d-8d8f-03f78d8cf971",
        "id": "dWa8GPhCIhN0"
      },
      "execution_count": null,
      "outputs": [
        {
          "output_type": "stream",
          "name": "stdout",
          "text": [
            "(64, 64)\n",
            "first tensor shape:  torch.Size([1, 1, 64, 64])\n",
            "enc_first:  torch.Size([1, 10])\n",
            "dec_first:  torch.Size([1, 1, 64, 64])\n",
            "last tensor shape:  torch.Size([1, 1, 64, 64])\n"
          ]
        },
        {
          "output_type": "display_data",
          "data": {
            "text/plain": [
              "<Figure size 432x288 with 4 Axes>"
            ],
            "image/png": "[encoded data removed]"
          },
          "metadata": {
            "needs_background": "light"
          }
        }
      ]
    },
    {
      "cell_type": "code",
      "source": [
        "interpolate(0, images, netConv01, dim_to_interpolate=0)"
      ],
      "metadata": {
        "colab": {
          "base_uri": "https://localhost:8080/",
          "height": 270
        },
        "outputId": "b811869e-b568-4092-edd0-915059236aa1",
        "id": "42VKiur0IhN0"
      },
      "execution_count": null,
      "outputs": [
        {
          "output_type": "stream",
          "name": "stdout",
          "text": [
            "(64, 64)\n",
            "first tensor shape:  torch.Size([1, 1, 64, 64])\n",
            "tensor([-3.0000, -1.8000, -0.6000,  0.6000,  1.8000,  3.0000],\n",
            "       dtype=torch.float64)\n",
            "torch.Size([6, 1, 64, 64])\n",
            "torch.Size([1, 64, 64])\n"
          ]
        },
        {
          "output_type": "display_data",
          "data": {
            "text/plain": [
              "<Figure size 720x1080 with 6 Axes>"
            ],
            "image/png": "[encoded data removed]"
          },
          "metadata": {
            "needs_background": "light"
          }
        }
      ]
    },
    {
      "cell_type": "code",
      "source": [
        "representation_function01 = netConv01.cpu().encode\n"
      ],
      "metadata": {
        "id": "PUv3NwV9IhN0"
      },
      "execution_count": null,
      "outputs": []
    },
    {
      "cell_type": "code",
      "source": [
        "train_classifier(16, ds, representation_function01, 'BetaVAE', num_train_data=2000)"
      ],
      "metadata": {
        "colab": {
          "base_uri": "https://localhost:8080/"
        },
        "outputId": "1696be91-72e4-49b8-9436-42f5182a62fb",
        "id": "k1C9KOjhIhN0"
      },
      "execution_count": null,
      "outputs": [
        {
          "output_type": "stream",
          "name": "stdout",
          "text": [
            "generating training\n",
            "mode:  higgins\n",
            "Generated training\n",
            "mode:  higgins\n"
          ]
        },
        {
          "output_type": "stream",
          "name": "stderr",
          "text": [
            "/usr/local/lib/python3.7/dist-packages/sklearn/linear_model/_logistic.py:818: ConvergenceWarning: lbfgs failed to converge (status=1):\n",
            "STOP: TOTAL NO. of ITERATIONS REACHED LIMIT.\n",
            "\n",
            "Increase the number of iterations (max_iter) or scale the data as shown in:\n",
            "    https://scikit-learn.org/stable/modules/preprocessing.html\n",
            "Please also refer to the documentation for alternative solver options:\n",
            "    https://scikit-learn.org/stable/modules/linear_model.html#logistic-regression\n",
            "  extra_warning_msg=_LOGISTIC_SOLVER_CONVERGENCE_MSG,\n"
          ]
        },
        {
          "output_type": "stream",
          "name": "stdout",
          "text": [
            "Generating evaluation\n",
            "mode:  higgins\n",
            "Generated evaluation\n"
          ]
        },
        {
          "output_type": "execute_result",
          "data": {
            "text/plain": [
              "{'beta_vae_eval_accuracy': 0.4865, 'beta_vae_train_accuracy': 0.5215}"
            ]
          },
          "metadata": {},
          "execution_count": 76
        }
      ]
    },
    {
      "cell_type": "code",
      "source": [
        "representation_function1 = netConv01.cpu().encode\n",
        "# MIG\n",
        "res_MIG = get_MI(1, ds, representation_function1, model_type='BetaVAE', num_train_data=2000, density=1, num_bins=50)\n"
      ],
      "metadata": {
        "colab": {
          "base_uri": "https://localhost:8080/"
        },
        "id": "fOF-9MHpLL_I",
        "outputId": "08e8e531-5829-4f62-ebaa-ffd7b0688d2a"
      },
      "execution_count": null,
      "outputs": [
        {
          "output_type": "stream",
          "name": "stdout",
          "text": [
            "mode:  MIG\n",
            "factor:  (2000,)\n",
            "entropy:  0.0\n",
            "factor:  (2000,)\n",
            "entropy:  1.098589573243842\n",
            "sorted mi:  [0.08624603364799693, 0.07214330054305285, 0.060343970528807044, 0.05755948150978372, 0.05754419775532982, 0.05704651975271463, 0.04911006898334689, 0.046380001834164575, 0.04262843964928039, 0.03993576072306226]\n",
            "factor:  (2000,)\n",
            "entropy:  1.7914736236859397\n",
            "sorted mi:  [0.30086072840009764, 0.23942708100917548, 0.19596616846473014, 0.12981793627463178, 0.12854907103610322, 0.11242720969568243, 0.093521218213544, 0.09041786137272832, 0.08910761833300819, 0.0882313091096956]\n",
            "factor:  (2000,)\n",
            "entropy:  3.6805824545065455\n",
            "sorted mi:  [0.5104307453827914, 0.5092268275786294, 0.4941644335513398, 0.47106679799591356, 0.4670582627548521, 0.4664414833081555, 0.46176843685690455, 0.4545395626541125, 0.45079403614400104, 0.44126144456687766]\n",
            "factor:  (2000,)\n",
            "entropy:  3.4589834013122136\n",
            "sorted mi:  [1.0687175700771618, 0.7046717078325104, 0.5846653345483583, 0.4997899257112747, 0.4451829867476864, 0.4296039744188822, 0.39642590479260975, 0.39082119174014884, 0.35818473716554344, 0.310850964256289]\n",
            "factor:  (2000,)\n",
            "entropy:  3.4517860206104474\n",
            "sorted mi:  [1.0762982687362186, 0.8986031273120086, 0.4767600187759707, 0.4482960136714985, 0.4037370283668613, 0.39469417163535314, 0.3797193164553826, 0.35886344759300715, 0.35853323050623287, 0.31812741465435723]\n",
            "all_fac_mi:  [0.012837126301228654, 0.03429224219585384, 0.00032709980527347753, 0.10524649008334228, 0.05147918798071516]\n",
            "avg:  0.04783625501629619\n"
          ]
        }
      ]
    },
    {
      "cell_type": "markdown",
      "source": [
        "### Train Beta=1"
      ],
      "metadata": {
        "id": "JVpCdVf9XBnV"
      }
    },
    {
      "cell_type": "code",
      "source": [
        "\"\"\"\n",
        "Initialize Hyperparameters\n",
        "\"\"\"\n",
        "device = torch.device('cuda' if torch.cuda.is_available() else 'cpu')\n",
        "batch_size = 128\n",
        "learning_rate = 1e-3 #5e-4\n",
        "num_epochs = 5\n",
        "beta = 1\n",
        "netConv1 = BetaVAEConv(beta=beta).to(device)\n",
        "optimizer_netConv1 = torch.optim.Adam(netConv1.parameters(), lr=learning_rate)"
      ],
      "metadata": {
        "id": "jmmwFJ15XA_C"
      },
      "execution_count": null,
      "outputs": []
    },
    {
      "cell_type": "code",
      "source": [
        "DSPRITES_PATH = '/content/drive/MyDrive/dsprites/dsprites_ndarray_co1sh3sc6or40x32y32_64x64.npz'\n",
        "with open(DSPRITES_PATH, \"rb\") as data_file:\n",
        "  data = np.load(data_file, encoding=\"latin1\", allow_pickle=True)\n",
        "  images = data['imgs']\n",
        "  \n",
        "train_loader_full_conv1 = torch.utils.data.DataLoader(images, batch_size=batch_size, shuffle=True) # each batch: [128, 64, 64]"
      ],
      "metadata": {
        "id": "7nc_sxXLXG24"
      },
      "execution_count": null,
      "outputs": []
    },
    {
      "cell_type": "code",
      "source": [
        "train_conv(num_epochs, train_loader_full_conv1, netConv1, optimizer_netConv1, device)"
      ],
      "metadata": {
        "colab": {
          "base_uri": "https://localhost:8080/"
        },
        "id": "tUNY5eU7Xi5u",
        "outputId": "aefc12c8-37f6-4ceb-8871-9a9f27de845c"
      },
      "execution_count": null,
      "outputs": [
        {
          "output_type": "stream",
          "name": "stdout",
          "text": [
            "epoch:  0\n",
            "Epoch 0: Loss 39787.03768870036\n",
            "epoch:  1\n",
            "Epoch 1: Loss 12131.921321275498\n",
            "epoch:  2\n",
            "Epoch 2: Loss 9809.2448832194\n",
            "epoch:  3\n",
            "Epoch 3: Loss 7794.184723493788\n",
            "epoch:  4\n",
            "Epoch 4: Loss 6728.909245130751\n"
          ]
        }
      ]
    },
    {
      "cell_type": "code",
      "source": [
        "recon_samples(2, 38217, images, netConv1)"
      ],
      "metadata": {
        "colab": {
          "base_uri": "https://localhost:8080/",
          "height": 358
        },
        "id": "KiipfAk-ZW1V",
        "outputId": "7fc5c82c-3ffd-417e-d276-4934ba35cfde"
      },
      "execution_count": null,
      "outputs": [
        {
          "output_type": "stream",
          "name": "stdout",
          "text": [
            "(64, 64)\n",
            "first tensor shape:  torch.Size([1, 1, 64, 64])\n",
            "enc_first:  torch.Size([1, 10])\n",
            "dec_first:  torch.Size([1, 1, 64, 64])\n",
            "last tensor shape:  torch.Size([1, 1, 64, 64])\n"
          ]
        },
        {
          "output_type": "display_data",
          "data": {
            "text/plain": [
              "<Figure size 432x288 with 4 Axes>"
            ],
            "image/png": "[encoded data removed]"
          },
          "metadata": {
            "needs_background": "light"
          }
        }
      ]
    },
    {
      "cell_type": "code",
      "source": [
        "interpolate(0, images, netConv1, dim_to_interpolate=0)"
      ],
      "metadata": {
        "colab": {
          "base_uri": "https://localhost:8080/",
          "height": 206
        },
        "id": "-OHgR6yQZ9O0",
        "outputId": "4f153edc-ea9a-49d9-fc55-7dd123240fbb"
      },
      "execution_count": null,
      "outputs": [
        {
          "output_type": "stream",
          "name": "stdout",
          "text": [
            "(64, 64)\n",
            "first tensor shape:  torch.Size([1, 1, 64, 64])\n",
            "tensor([-3.0000, -1.8000, -0.6000,  0.6000,  1.8000,  3.0000],\n",
            "       dtype=torch.float64)\n",
            "torch.Size([6, 1, 64, 64])\n",
            "torch.Size([1, 64, 64])\n"
          ]
        },
        {
          "output_type": "display_data",
          "data": {
            "text/plain": [
              "<Figure size 432x288 with 6 Axes>"
            ],
            "image/png": "[encoded data removed]"
          },
          "metadata": {
            "needs_background": "light"
          }
        }
      ]
    },
    {
      "cell_type": "code",
      "source": [
        "representation_function1 = netConv1.cpu().encode\n"
      ],
      "metadata": {
        "id": "_UYWP5n3BrxP"
      },
      "execution_count": null,
      "outputs": []
    },
    {
      "cell_type": "code",
      "source": [
        "train_classifier(16, ds, representation_function1, 'BetaVAE', num_train_data=2000)"
      ],
      "metadata": {
        "colab": {
          "base_uri": "https://localhost:8080/"
        },
        "id": "Wb_BkICSaTDc",
        "outputId": "725f59d8-634b-4702-a3ae-ce322a1e0c20"
      },
      "execution_count": null,
      "outputs": [
        {
          "output_type": "stream",
          "name": "stdout",
          "text": [
            "generating training\n",
            "mode:  higgins\n",
            "Generated training\n",
            "mode:  higgins\n"
          ]
        },
        {
          "output_type": "stream",
          "name": "stderr",
          "text": [
            "/usr/local/lib/python3.7/dist-packages/sklearn/linear_model/_logistic.py:818: ConvergenceWarning: lbfgs failed to converge (status=1):\n",
            "STOP: TOTAL NO. of ITERATIONS REACHED LIMIT.\n",
            "\n",
            "Increase the number of iterations (max_iter) or scale the data as shown in:\n",
            "    https://scikit-learn.org/stable/modules/preprocessing.html\n",
            "Please also refer to the documentation for alternative solver options:\n",
            "    https://scikit-learn.org/stable/modules/linear_model.html#logistic-regression\n",
            "  extra_warning_msg=_LOGISTIC_SOLVER_CONVERGENCE_MSG,\n"
          ]
        },
        {
          "output_type": "stream",
          "name": "stdout",
          "text": [
            "Generating evaluation\n",
            "mode:  higgins\n",
            "Generated evaluation\n"
          ]
        },
        {
          "output_type": "execute_result",
          "data": {
            "text/plain": [
              "{'beta_vae_eval_accuracy': 0.588, 'beta_vae_train_accuracy': 0.6135}"
            ]
          },
          "metadata": {},
          "execution_count": 75
        }
      ]
    },
    {
      "cell_type": "code",
      "source": [
        "# MIG\n",
        "res_MIG = get_MI(1, ds, representation_function1, model_type='BetaVAE', num_train_data=2000, density=1, num_bins=50)"
      ],
      "metadata": {
        "colab": {
          "base_uri": "https://localhost:8080/"
        },
        "id": "lMbN6QJeNPCj",
        "outputId": "743979bd-6d5c-429f-81e8-76ca5c04bcb4"
      },
      "execution_count": null,
      "outputs": [
        {
          "output_type": "stream",
          "name": "stdout",
          "text": [
            "mode:  MIG\n",
            "factor:  (2000,)\n",
            "entropy:  0.0\n",
            "factor:  (2000,)\n",
            "entropy:  1.098589573243842\n",
            "sorted mi:  [0.29908261238291867, 0.28135759629073404, 0.07169439902379429, 0.06599197912777435, 0.06275604008821081, 0.05970851142789429, 0.050168470240726286, 0.04536474690277649, 0.04398209277724001, 0.04359970131575398]\n",
            "factor:  (2000,)\n",
            "entropy:  1.7914736236859397\n",
            "sorted mi:  [0.27827517984076255, 0.17148881135975258, 0.16457924199166052, 0.14036402720660074, 0.13101655796561004, 0.125458221986268, 0.1218909164543826, 0.08741147860448997, 0.07977970895822911, 0.07108199255695388]\n",
            "factor:  (2000,)\n",
            "entropy:  3.6805824545065455\n",
            "sorted mi:  [0.637838958629918, 0.622571020663564, 0.44049776496148785, 0.42813275852399296, 0.42289577739816553, 0.42097899131528704, 0.3639800462206851, 0.3636990370905001, 0.3625713019342306, 0.3412345128437959]\n",
            "factor:  (2000,)\n",
            "entropy:  3.4589834013122136\n",
            "sorted mi:  [1.1118888851612652, 0.5456027117406135, 0.43957800485292303, 0.4083504725989491, 0.39329403126517637, 0.35968374659738056, 0.3500938095927483, 0.3455528131210279, 0.3019938040405502, 0.29369898556330215]\n",
            "factor:  (2000,)\n",
            "entropy:  3.4517860206104474\n",
            "sorted mi:  [1.2882364276560225, 0.6396001059407115, 0.47601336467875505, 0.4132739751211036, 0.3841542497270366, 0.3783852966350524, 0.3711978566978869, 0.3711562482674816, 0.3206421401353394, 0.31395074944833656]\n",
            "all_fac_mi:  [0.016134338540868712, 0.05960811650762575, 0.004148239621057757, 0.16371462586545604, 0.18791324776284943]\n",
            "avg:  0.10384605743924724\n"
          ]
        }
      ]
    },
    {
      "cell_type": "markdown",
      "source": [
        "### Train Beta=2"
      ],
      "metadata": {
        "id": "clDNFZDzaimy"
      }
    },
    {
      "cell_type": "code",
      "source": [
        "\"\"\"\n",
        "Initialize Hyperparameters\n",
        "\"\"\"\n",
        "device = torch.device('cuda' if torch.cuda.is_available() else 'cpu')\n",
        "batch_size = 128\n",
        "learning_rate = 1e-3 #5e-4\n",
        "num_epochs = 5\n",
        "beta = 2\n",
        "netConv2 = BetaVAEConv(beta=beta).to(device)\n",
        "optimizer_netConv2 = torch.optim.Adam(netConv2.parameters(), lr=learning_rate)"
      ],
      "metadata": {
        "id": "mWHdschzbORm"
      },
      "execution_count": null,
      "outputs": []
    },
    {
      "cell_type": "code",
      "source": [
        "train_loader_full_conv2 = torch.utils.data.DataLoader(images, batch_size=batch_size, shuffle=True) # each batch: [128, 64, 64]"
      ],
      "metadata": {
        "id": "JJYN-tIublrg"
      },
      "execution_count": null,
      "outputs": []
    },
    {
      "cell_type": "code",
      "source": [
        "train_conv(num_epochs, train_loader_full_conv2, netConv2, optimizer_netConv2, device)"
      ],
      "metadata": {
        "id": "bKtIudfEd_ux",
        "colab": {
          "base_uri": "https://localhost:8080/"
        },
        "outputId": "740095df-ca9f-4dfd-a13d-cc2b7baf2efe"
      },
      "execution_count": null,
      "outputs": [
        {
          "output_type": "stream",
          "name": "stdout",
          "text": [
            "epoch:  0\n",
            "Epoch 0: Loss 19683.849011739094\n",
            "epoch:  1\n",
            "Epoch 1: Loss 12443.135563659667\n",
            "epoch:  2\n",
            "Epoch 2: Loss 11116.745621744793\n",
            "epoch:  3\n",
            "Epoch 3: Loss 9783.43475189209\n",
            "epoch:  4\n",
            "Epoch 4: Loss 9193.559637620714\n"
          ]
        }
      ]
    },
    {
      "cell_type": "code",
      "source": [
        "recon_samples(2, 38217, images, netConv2)"
      ],
      "metadata": {
        "id": "XuCBQzd3b9HJ",
        "colab": {
          "base_uri": "https://localhost:8080/",
          "height": 356
        },
        "outputId": "69aeeca3-1cef-4874-a2fe-0a578a498968"
      },
      "execution_count": null,
      "outputs": [
        {
          "output_type": "stream",
          "name": "stdout",
          "text": [
            "(64, 64)\n",
            "first tensor shape:  torch.Size([1, 1, 64, 64])\n",
            "enc_first:  torch.Size([1, 10])\n",
            "dec_first:  torch.Size([1, 1, 64, 64])\n",
            "last tensor shape:  torch.Size([1, 1, 64, 64])\n"
          ]
        },
        {
          "output_type": "display_data",
          "data": {
            "text/plain": [
              "<Figure size 432x288 with 4 Axes>"
            ],
            "image/png": "[encoded data removed]"
          },
          "metadata": {
            "needs_background": "light"
          }
        }
      ]
    },
    {
      "cell_type": "code",
      "source": [
        "interpolate(0, images, netConv2, dim_to_interpolate=0)"
      ],
      "metadata": {
        "id": "ZbHO5hCgb_lm",
        "colab": {
          "base_uri": "https://localhost:8080/",
          "height": 203
        },
        "outputId": "b46f7a30-2f92-4baf-a621-d676c1900b46"
      },
      "execution_count": null,
      "outputs": [
        {
          "output_type": "stream",
          "name": "stdout",
          "text": [
            "(64, 64)\n",
            "first tensor shape:  torch.Size([1, 1, 64, 64])\n",
            "tensor([-3.0000, -1.8000, -0.6000,  0.6000,  1.8000,  3.0000],\n",
            "       dtype=torch.float64)\n",
            "torch.Size([6, 1, 64, 64])\n",
            "torch.Size([1, 64, 64])\n"
          ]
        },
        {
          "output_type": "display_data",
          "data": {
            "text/plain": [
              "<Figure size 432x288 with 6 Axes>"
            ],
            "image/png": "[encoded data removed]"
          },
          "metadata": {
            "needs_background": "light"
          }
        }
      ]
    },
    {
      "cell_type": "code",
      "source": [
        "representation_function2 = netConv2.cpu().encode\n",
        "train_classifier(16, ds, representation_function2, 'BetaVAE', num_train_data=2000)"
      ],
      "metadata": {
        "id": "afA4eZr8cPod",
        "colab": {
          "base_uri": "https://localhost:8080/"
        },
        "outputId": "f9f01e03-b572-43db-8870-959ef6a8938f"
      },
      "execution_count": null,
      "outputs": [
        {
          "output_type": "stream",
          "name": "stdout",
          "text": [
            "generating training\n",
            "Generated training\n"
          ]
        },
        {
          "output_type": "stream",
          "name": "stderr",
          "text": [
            "/usr/local/lib/python3.7/dist-packages/sklearn/linear_model/_logistic.py:818: ConvergenceWarning: lbfgs failed to converge (status=1):\n",
            "STOP: TOTAL NO. of ITERATIONS REACHED LIMIT.\n",
            "\n",
            "Increase the number of iterations (max_iter) or scale the data as shown in:\n",
            "    https://scikit-learn.org/stable/modules/preprocessing.html\n",
            "Please also refer to the documentation for alternative solver options:\n",
            "    https://scikit-learn.org/stable/modules/linear_model.html#logistic-regression\n",
            "  extra_warning_msg=_LOGISTIC_SOLVER_CONVERGENCE_MSG,\n"
          ]
        },
        {
          "output_type": "stream",
          "name": "stdout",
          "text": [
            "Generating evaluation\n",
            "Generated evaluation\n"
          ]
        },
        {
          "output_type": "execute_result",
          "data": {
            "text/plain": [
              "{'beta_vae_eval_accuracy': 0.676, 'beta_vae_train_accuracy': 0.716}"
            ]
          },
          "metadata": {},
          "execution_count": 44
        }
      ]
    },
    {
      "cell_type": "code",
      "source": [
        "# MIG\n",
        "representation_function2 = netConv2.cpu().encode\n",
        "res_MIG = get_MI(1, ds, representation_function2, model_type='BetaVAE', num_train_data=2000, density=1, num_bins=20)"
      ],
      "metadata": {
        "id": "Vuut0tu6q1Xc",
        "colab": {
          "base_uri": "https://localhost:8080/"
        },
        "outputId": "98eee3b2-779d-490a-f5e3-3abd9ff3f471"
      },
      "execution_count": null,
      "outputs": [
        {
          "output_type": "stream",
          "name": "stdout",
          "text": [
            "mode:  MIG\n",
            "factor:  (2000,)\n",
            "entropy:  0.0\n",
            "factor:  (2000,)\n",
            "entropy:  1.098589573243842\n",
            "sorted mi:  [0.17933485615014677, 0.07391503185760985, 0.053553799406212764, 0.049267202332462186, 0.04594282064855621, 0.041794014691493665, 0.03887359302653704, 0.03322943134360308, 0.028883077380994028, 0.020901250512069508]\n",
            "factor:  (2000,)\n",
            "entropy:  1.7914736236859397\n",
            "sorted mi:  [0.8440632842117602, 0.0989471932210613, 0.08501303480855534, 0.084990730259558, 0.07895914107987065, 0.06018486350863728, 0.05842369440698036, 0.04403788738100889, 0.04078341080703626, 0.03965259557177487]\n",
            "factor:  (2000,)\n",
            "entropy:  3.6805824545065455\n",
            "sorted mi:  [0.2740506133705894, 0.2511817347377821, 0.23796175382628937, 0.23296925470780225, 0.21205522400646112, 0.20936283276743187, 0.20203024294961935, 0.19461108105308952, 0.17535180965571198, 0.17011000139410912]\n",
            "factor:  (2000,)\n",
            "entropy:  3.4589834013122136\n",
            "sorted mi:  [1.039236625236457, 0.9116127335317699, 0.3886000316668492, 0.36551165153995313, 0.2983622216038485, 0.27952301508330796, 0.26621274317763255, 0.17314500457555648, 0.15740148947551846, 0.1460156360113019]\n",
            "factor:  (2000,)\n",
            "entropy:  3.4517860206104474\n",
            "sorted mi:  [1.3069852951398637, 0.4932212770611132, 0.39667358640025413, 0.2690906909016237, 0.2332661110190169, 0.2214598406955916, 0.1912976752299835, 0.16701693906372453, 0.1633632850369967, 0.1581847135363852]\n",
            "all_fac_mi:  [0.09595924343361488, 0.4159235621106326, 0.006213385765833444, 0.03689635852437781, 0.23575158286747933]\n",
            "avg:  0.1736962223170808\n"
          ]
        }
      ]
    },
    {
      "cell_type": "markdown",
      "source": [
        "### Train Beta=3"
      ],
      "metadata": {
        "id": "A31SzyWeq1xj"
      }
    },
    {
      "cell_type": "code",
      "source": [
        "\"\"\"\n",
        "Initialize Hyperparameters\n",
        "\"\"\"\n",
        "device = torch.device('cuda' if torch.cuda.is_available() else 'cpu')\n",
        "batch_size = 128\n",
        "learning_rate = 1e-3 #5e-4\n",
        "num_epochs = 5\n",
        "beta = 1\n",
        "netConv3 = BetaVAEConv(beta=beta).to(device)\n",
        "optimizer_netConv3 = torch.optim.Adam(netConv3.parameters(), lr=learning_rate)"
      ],
      "metadata": {
        "id": "C4zPnH3Mq1xj"
      },
      "execution_count": null,
      "outputs": []
    },
    {
      "cell_type": "code",
      "source": [
        "DSPRITES_PATH = '/content/drive/MyDrive/dsprites/dsprites_ndarray_co1sh3sc6or40x32y32_64x64.npz'\n",
        "with open(DSPRITES_PATH, \"rb\") as data_file:\n",
        "  data = np.load(data_file, encoding=\"latin1\", allow_pickle=True)\n",
        "  images = data['imgs']\n",
        "  \n",
        "train_loader_full_conv3 = torch.utils.data.DataLoader(images, batch_size=batch_size, shuffle=True) # each batch: [128, 64, 64]"
      ],
      "metadata": {
        "id": "zNOGh-UMq1xl"
      },
      "execution_count": null,
      "outputs": []
    },
    {
      "cell_type": "code",
      "source": [
        "train_conv(num_epochs, train_loader_full_conv3, netConv3, optimizer_netConv3, device)"
      ],
      "metadata": {
        "colab": {
          "base_uri": "https://localhost:8080/"
        },
        "outputId": "6220d692-d490-4726-a6c5-f94a1ea04bd7",
        "id": "CBz7ffxfq1xm"
      },
      "execution_count": null,
      "outputs": [
        {
          "output_type": "stream",
          "name": "stdout",
          "text": [
            "epoch:  0\n",
            "Epoch 0: Loss 33450.15309651693\n",
            "epoch:  1\n",
            "Epoch 1: Loss 12498.015412224664\n",
            "epoch:  2\n",
            "Epoch 2: Loss 9916.078112623427\n",
            "epoch:  3\n",
            "Epoch 3: Loss 7816.150254567464\n",
            "epoch:  4\n",
            "Epoch 4: Loss 6776.4073632982045\n"
          ]
        }
      ]
    },
    {
      "cell_type": "code",
      "source": [
        "recon_samples(2, 38217, images, netConv3)"
      ],
      "metadata": {
        "colab": {
          "base_uri": "https://localhost:8080/",
          "height": 358
        },
        "outputId": "784bfe94-bead-4280-a677-2776d15dd224",
        "id": "FfpuFodTq1xm"
      },
      "execution_count": null,
      "outputs": [
        {
          "output_type": "stream",
          "name": "stdout",
          "text": [
            "(64, 64)\n",
            "first tensor shape:  torch.Size([1, 1, 64, 64])\n",
            "enc_first:  torch.Size([1, 10])\n",
            "dec_first:  torch.Size([1, 1, 64, 64])\n",
            "last tensor shape:  torch.Size([1, 1, 64, 64])\n"
          ]
        },
        {
          "output_type": "display_data",
          "data": {
            "text/plain": [
              "<Figure size 432x288 with 4 Axes>"
            ],
            "image/png": "[encoded data removed]"
          },
          "metadata": {
            "needs_background": "light"
          }
        }
      ]
    },
    {
      "cell_type": "code",
      "source": [
        "beta3plot = interpolate(0, images, netConv3, dim_to_interpolate=10)"
      ],
      "metadata": {
        "colab": {
          "base_uri": "https://localhost:8080/",
          "height": 383
        },
        "outputId": "1bb04cbd-8526-40b0-8dcb-9937396bfe9b",
        "id": "sICsBWhSq1xn"
      },
      "execution_count": null,
      "outputs": [
        {
          "output_type": "stream",
          "name": "stdout",
          "text": [
            "(64, 64)\n",
            "first tensor shape:  torch.Size([1, 1, 64, 64])\n",
            "tensor([-3.0000, -1.8000, -0.6000,  0.6000,  1.8000,  3.0000],\n",
            "       dtype=torch.float64)\n"
          ]
        },
        {
          "output_type": "error",
          "ename": "IndexError",
          "evalue": "ignored",
          "traceback": [
            "\u001b[0;31m---------------------------------------------------------------------------\u001b[0m",
            "\u001b[0;31mIndexError\u001b[0m                                Traceback (most recent call last)",
            "\u001b[0;32m<ipython-input-32-5b73a290d656>\u001b[0m in \u001b[0;36m<module>\u001b[0;34m()\u001b[0m\n\u001b[0;32m----> 1\u001b[0;31m \u001b[0mbeta3plot\u001b[0m \u001b[0;34m=\u001b[0m \u001b[0minterpolate\u001b[0m\u001b[0;34m(\u001b[0m\u001b[0;36m0\u001b[0m\u001b[0;34m,\u001b[0m \u001b[0mimages\u001b[0m\u001b[0;34m,\u001b[0m \u001b[0mnetConv3\u001b[0m\u001b[0;34m,\u001b[0m \u001b[0mdim_to_interpolate\u001b[0m\u001b[0;34m=\u001b[0m\u001b[0;36m10\u001b[0m\u001b[0;34m)\u001b[0m\u001b[0;34m\u001b[0m\u001b[0;34m\u001b[0m\u001b[0m\n\u001b[0m",
            "\u001b[0;32m<ipython-input-15-2118e7f1a352>\u001b[0m in \u001b[0;36minterpolate\u001b[0;34m(samp_idx, images, net, dim_to_interpolate)\u001b[0m\n\u001b[1;32m     20\u001b[0m   \u001b[0mfirst_dim\u001b[0m \u001b[0;34m=\u001b[0m \u001b[0mtorch\u001b[0m\u001b[0;34m.\u001b[0m\u001b[0mtensor\u001b[0m\u001b[0;34m(\u001b[0m\u001b[0mnp\u001b[0m\u001b[0;34m.\u001b[0m\u001b[0mlinspace\u001b[0m\u001b[0;34m(\u001b[0m\u001b[0;34m-\u001b[0m\u001b[0;36m3\u001b[0m\u001b[0;34m,\u001b[0m\u001b[0;36m3\u001b[0m\u001b[0;34m,\u001b[0m \u001b[0;36m6\u001b[0m\u001b[0;34m)\u001b[0m\u001b[0;34m)\u001b[0m\u001b[0;34m\u001b[0m\u001b[0;34m\u001b[0m\u001b[0m\n\u001b[1;32m     21\u001b[0m   \u001b[0mprint\u001b[0m\u001b[0;34m(\u001b[0m\u001b[0mfirst_dim\u001b[0m\u001b[0;34m)\u001b[0m\u001b[0;34m\u001b[0m\u001b[0;34m\u001b[0m\u001b[0m\n\u001b[0;32m---> 22\u001b[0;31m   \u001b[0mbase_lat\u001b[0m\u001b[0;34m[\u001b[0m\u001b[0;34m:\u001b[0m\u001b[0;34m,\u001b[0m \u001b[0mdim_to_interpolate\u001b[0m\u001b[0;34m]\u001b[0m \u001b[0;34m=\u001b[0m \u001b[0mfirst_dim\u001b[0m\u001b[0;34m\u001b[0m\u001b[0;34m\u001b[0m\u001b[0m\n\u001b[0m\u001b[1;32m     23\u001b[0m   \u001b[0;31m#print(base_lat)\u001b[0m\u001b[0;34m\u001b[0m\u001b[0;34m\u001b[0m\u001b[0;34m\u001b[0m\u001b[0m\n\u001b[1;32m     24\u001b[0m \u001b[0;34m\u001b[0m\u001b[0m\n",
            "\u001b[0;31mIndexError\u001b[0m: index 10 is out of bounds for dimension 1 with size 10"
          ]
        },
        {
          "output_type": "display_data",
          "data": {
            "text/plain": [
              "<Figure size 720x1080 with 0 Axes>"
            ]
          },
          "metadata": {}
        }
      ]
    },
    {
      "cell_type": "code",
      "source": [
        "beta3plot.savefig('beta3plot.png')"
      ],
      "metadata": {
        "colab": {
          "base_uri": "https://localhost:8080/",
          "height": 35
        },
        "id": "-UWpNu8pyBK4",
        "outputId": "c838bd5f-60f4-4962-accc-76638aa16e01"
      },
      "execution_count": null,
      "outputs": [
        {
          "output_type": "display_data",
          "data": {
            "text/plain": [
              "<Figure size 432x288 with 0 Axes>"
            ]
          },
          "metadata": {}
        }
      ]
    },
    {
      "cell_type": "code",
      "source": [
        "representation_function3 = netConv3.cpu().encode\n"
      ],
      "metadata": {
        "id": "GQfbD5Xo-DY9"
      },
      "execution_count": null,
      "outputs": []
    },
    {
      "cell_type": "code",
      "source": [
        "train_classifier(16, ds, representation_function3, 'BetaVAE', num_train_data=2000)"
      ],
      "metadata": {
        "colab": {
          "base_uri": "https://localhost:8080/"
        },
        "outputId": "876fb817-c72b-48f0-d7ea-ea018e03f264",
        "id": "oo9jLJzLq1xn"
      },
      "execution_count": null,
      "outputs": [
        {
          "output_type": "stream",
          "name": "stdout",
          "text": [
            "generating training\n",
            "Generated training\n"
          ]
        },
        {
          "output_type": "stream",
          "name": "stderr",
          "text": [
            "/usr/local/lib/python3.7/dist-packages/sklearn/linear_model/_logistic.py:818: ConvergenceWarning: lbfgs failed to converge (status=1):\n",
            "STOP: TOTAL NO. of ITERATIONS REACHED LIMIT.\n",
            "\n",
            "Increase the number of iterations (max_iter) or scale the data as shown in:\n",
            "    https://scikit-learn.org/stable/modules/preprocessing.html\n",
            "Please also refer to the documentation for alternative solver options:\n",
            "    https://scikit-learn.org/stable/modules/linear_model.html#logistic-regression\n",
            "  extra_warning_msg=_LOGISTIC_SOLVER_CONVERGENCE_MSG,\n"
          ]
        },
        {
          "output_type": "stream",
          "name": "stdout",
          "text": [
            "Generating evaluation\n",
            "Generated evaluation\n"
          ]
        },
        {
          "output_type": "execute_result",
          "data": {
            "text/plain": [
              "{'beta_vae_eval_accuracy': 0.7565, 'beta_vae_train_accuracy': 0.7935}"
            ]
          },
          "metadata": {},
          "execution_count": 51
        }
      ]
    },
    {
      "cell_type": "code",
      "source": [
        "# MIG\n",
        "representation_function3 = netConv3.cpu().encode\n",
        "res_MIG = get_MI(1, ds, representation_function3, model_type='BetaVAE', num_train_data=2000, density=1, num_bins=50)"
      ],
      "metadata": {
        "id": "mH3h0dc5ur9A",
        "colab": {
          "base_uri": "https://localhost:8080/"
        },
        "outputId": "88595f73-a688-4ffe-fb7f-f68c88403f27"
      },
      "execution_count": null,
      "outputs": [
        {
          "output_type": "stream",
          "name": "stdout",
          "text": [
            "mode:  MIG\n",
            "factor:  (2000,)\n",
            "entropy:  0.0\n",
            "factor:  (2000,)\n",
            "entropy:  1.098589573243842\n",
            "sorted mi:  [0.36584295886492135, 0.28040884242505515, 0.057961244665448435, 0.04227777689976677, 0.03162950884725452, 0.029233831405387916, 0.023825589154577807, 0.020834257962791425, 0.013802735677513568, 0.008818722511382977]\n",
            "factor:  (2000,)\n",
            "entropy:  1.7914736236859397\n",
            "sorted mi:  [0.9898833837854418, 0.09783496673361887, 0.07254074716042658, 0.06007320879132023, 0.05365049875498539, 0.052521171869152464, 0.043972763070050415, 0.03280906520888736, 0.017956562759529716, 0.01600697071386091]\n",
            "factor:  (2000,)\n",
            "entropy:  3.6805824545065455\n",
            "sorted mi:  [0.5335906559080512, 0.10289703270337748, 0.10192540193480297, 0.09653102838033473, 0.08986183425957381, 0.08795110655190694, 0.08634788184911368, 0.08589310691604321, 0.08480862298104566, 0.07562762006087208]\n",
            "factor:  (2000,)\n",
            "entropy:  3.4589834013122136\n",
            "sorted mi:  [1.6575468559251207, 0.6388438417908633, 0.2232341676335187, 0.15060296834051523, 0.11539734122384251, 0.10935770571038411, 0.10272910692640577, 0.08413435509164768, 0.07203700082982153, 0.056812668613117664]\n",
            "factor:  (2000,)\n",
            "entropy:  3.4517860206104474\n",
            "sorted mi:  [1.7008573694737021, 0.28241689487236454, 0.12460952449909322, 0.09731894273129105, 0.08899010734998819, 0.08724799044539412, 0.08103296388709186, 0.08074223858135145, 0.07930474317889386, 0.07003501261588246]\n",
            "all_fac_mi:  [0.07776709202473317, 0.49794113921501226, 0.11701778958309376, 0.29450936762165386, 0.4109294336705399]\n",
            "avg:  0.3300994325225749\n"
          ]
        }
      ]
    },
    {
      "cell_type": "markdown",
      "source": [
        "### Train Beta=4"
      ],
      "metadata": {
        "id": "pN60iLSQuwCV"
      }
    },
    {
      "cell_type": "code",
      "source": [
        "\"\"\"\n",
        "Initialize Hyperparameters\n",
        "\"\"\"\n",
        "device = torch.device('cuda' if torch.cuda.is_available() else 'cpu')\n",
        "batch_size = 128\n",
        "learning_rate = 1e-3 #5e-4\n",
        "num_epochs = 5\n",
        "beta = 4\n",
        "netConv4 = BetaVAEConv(beta=beta).to(device)\n",
        "optimizer_netConv4 = torch.optim.Adam(netConv4.parameters(), lr=learning_rate)"
      ],
      "metadata": {
        "id": "5Eo46I3buwCW"
      },
      "execution_count": null,
      "outputs": []
    },
    {
      "cell_type": "code",
      "source": [
        "DSPRITES_PATH = '/content/drive/MyDrive/dsprites/dsprites_ndarray_co1sh3sc6or40x32y32_64x64.npz'\n",
        "with open(DSPRITES_PATH, \"rb\") as data_file:\n",
        "  data = np.load(data_file, encoding=\"latin1\", allow_pickle=True)\n",
        "  images = data['imgs']\n",
        "  \n",
        "train_loader_full_conv4 = torch.utils.data.DataLoader(images, batch_size=batch_size, shuffle=True) # each batch: [128, 64, 64]"
      ],
      "metadata": {
        "id": "Uj1BnImNuwCX"
      },
      "execution_count": null,
      "outputs": []
    },
    {
      "cell_type": "code",
      "source": [
        "train_conv(num_epochs, train_loader_full_conv4, netConv4, optimizer_netConv4, device)"
      ],
      "metadata": {
        "colab": {
          "base_uri": "https://localhost:8080/"
        },
        "outputId": "ad62eb36-3b21-4671-8f20-b1ce1b558641",
        "id": "BvlC1-0NuwCX"
      },
      "execution_count": null,
      "outputs": [
        {
          "output_type": "stream",
          "name": "stdout",
          "text": [
            "epoch:  0\n",
            "Epoch 0: Loss 21423.343904113768\n",
            "epoch:  1\n",
            "Epoch 1: Loss 16990.248456488716\n",
            "epoch:  2\n",
            "Epoch 2: Loss 16727.277729627822\n",
            "epoch:  3\n",
            "Epoch 3: Loss 16614.146551513673\n",
            "epoch:  4\n",
            "Epoch 4: Loss 16470.993941073946\n"
          ]
        }
      ]
    },
    {
      "cell_type": "code",
      "source": [
        "recon_samples(2, 38217, images, netConv4)"
      ],
      "metadata": {
        "colab": {
          "base_uri": "https://localhost:8080/",
          "height": 358
        },
        "outputId": "5b12b84c-0668-4e49-dd29-50821d4202a6",
        "id": "TMo6-BALuwCY"
      },
      "execution_count": null,
      "outputs": [
        {
          "output_type": "stream",
          "name": "stdout",
          "text": [
            "(64, 64)\n",
            "first tensor shape:  torch.Size([1, 1, 64, 64])\n",
            "enc_first:  torch.Size([1, 10])\n",
            "dec_first:  torch.Size([1, 1, 64, 64])\n",
            "last tensor shape:  torch.Size([1, 1, 64, 64])\n"
          ]
        },
        {
          "output_type": "display_data",
          "data": {
            "text/plain": [
              "<Figure size 432x288 with 4 Axes>"
            ],
            "image/png": "[encoded data removed]"
          },
          "metadata": {
            "needs_background": "light"
          }
        }
      ]
    },
    {
      "cell_type": "code",
      "source": [
        "interpolate(0, images, netConv4, dim_to_interpolate=0)"
      ],
      "metadata": {
        "colab": {
          "base_uri": "https://localhost:8080/",
          "height": 206
        },
        "outputId": "98b7f927-f128-461c-ccab-3559a1542018",
        "id": "yK_yt3ziuwCY"
      },
      "execution_count": null,
      "outputs": [
        {
          "output_type": "stream",
          "name": "stdout",
          "text": [
            "(64, 64)\n",
            "first tensor shape:  torch.Size([1, 1, 64, 64])\n",
            "tensor([-3.0000, -1.8000, -0.6000,  0.6000,  1.8000,  3.0000],\n",
            "       dtype=torch.float64)\n",
            "torch.Size([6, 1, 64, 64])\n",
            "torch.Size([1, 64, 64])\n"
          ]
        },
        {
          "output_type": "display_data",
          "data": {
            "text/plain": [
              "<Figure size 432x288 with 6 Axes>"
            ],
            "image/png": "[encoded data removed]"
          },
          "metadata": {
            "needs_background": "light"
          }
        }
      ]
    },
    {
      "cell_type": "code",
      "source": [
        "representation_function4 = netConv4.cpu().encode\n",
        "train_classifier(16, ds, representation_function4, 'BetaVAE', num_train_data=2000)"
      ],
      "metadata": {
        "colab": {
          "base_uri": "https://localhost:8080/"
        },
        "outputId": "07ae916a-71a7-4c45-9db7-6f57a0123adc",
        "id": "X2gZ94EXuwCY"
      },
      "execution_count": null,
      "outputs": [
        {
          "output_type": "stream",
          "name": "stdout",
          "text": [
            "generating training\n",
            "mode:  higgins\n",
            "Generated training\n",
            "mode:  higgins\n"
          ]
        },
        {
          "output_type": "stream",
          "name": "stderr",
          "text": [
            "/usr/local/lib/python3.7/dist-packages/sklearn/linear_model/_logistic.py:818: ConvergenceWarning: lbfgs failed to converge (status=1):\n",
            "STOP: TOTAL NO. of ITERATIONS REACHED LIMIT.\n",
            "\n",
            "Increase the number of iterations (max_iter) or scale the data as shown in:\n",
            "    https://scikit-learn.org/stable/modules/preprocessing.html\n",
            "Please also refer to the documentation for alternative solver options:\n",
            "    https://scikit-learn.org/stable/modules/linear_model.html#logistic-regression\n",
            "  extra_warning_msg=_LOGISTIC_SOLVER_CONVERGENCE_MSG,\n"
          ]
        },
        {
          "output_type": "stream",
          "name": "stdout",
          "text": [
            "Generating evaluation\n",
            "mode:  higgins\n",
            "Generated evaluation\n"
          ]
        },
        {
          "output_type": "execute_result",
          "data": {
            "text/plain": [
              "{'beta_vae_eval_accuracy': 0.79, 'beta_vae_train_accuracy': 0.805}"
            ]
          },
          "metadata": {},
          "execution_count": 81
        }
      ]
    },
    {
      "cell_type": "code",
      "source": [
        "# MIG\n",
        "res_MIG = get_MI(1, ds, representation_function4, model_type='BetaVAE', num_train_data=2000, density=1, num_bins=50)"
      ],
      "metadata": {
        "colab": {
          "base_uri": "https://localhost:8080/"
        },
        "id": "d822YBCoRkRJ",
        "outputId": "e7714678-1291-45a7-ef76-4a0cc4924c14"
      },
      "execution_count": null,
      "outputs": [
        {
          "output_type": "stream",
          "name": "stdout",
          "text": [
            "mode:  MIG\n",
            "factor:  (2000,)\n",
            "entropy:  0.0\n",
            "factor:  (2000,)\n",
            "entropy:  1.098589573243842\n",
            "sorted mi:  [0.47247178219114006, 0.15424087491939992, 0.1321926134647299, 0.12337963530175394, 0.07834801332171239, 0.0747051856436311, 0.0720379835426618, 0.06426023150313619, 0.054520975757437126, 0.04757884232016847]\n",
            "factor:  (2000,)\n",
            "entropy:  1.7914736236859397\n",
            "sorted mi:  [1.1747627124560172, 0.24207031849065505, 0.21264974806736775, 0.2038014701168, 0.195193676847604, 0.17358155029700356, 0.15572826240140253, 0.11343151473048435, 0.11330493723096349, 0.10492524714392237]\n",
            "factor:  (2000,)\n",
            "entropy:  3.6805824545065455\n",
            "sorted mi:  [0.7063004059579172, 0.7050686688711512, 0.6647778532350594, 0.6644949601789016, 0.6521098339967221, 0.5832880745749213, 0.5731255178990187, 0.5717989659708211, 0.543649560214289, 0.5274593978929911]\n",
            "factor:  (2000,)\n",
            "entropy:  3.4589834013122136\n",
            "sorted mi:  [1.7373509702434176, 1.4152202538263314, 0.7036904894943039, 0.6550577324506779, 0.5683059880038995, 0.5585079086011024, 0.5318521112067918, 0.5313141953186404, 0.5236360014148076, 0.4954343532912583]\n",
            "factor:  (2000,)\n",
            "entropy:  3.4517860206104474\n",
            "sorted mi:  [2.638003912729587, 0.5650408838292396, 0.5515117820248217, 0.54304197097346, 0.5397809454080724, 0.5273671170358643, 0.5044872297095366, 0.48974875767367243, 0.48719066913363057, 0.4416619653737648]\n",
            "all_fac_mi:  [0.2896722443233183, 0.5206285940433533, 0.00033465819662806273, 0.0931287257102423, 0.6005479530083225]\n",
            "avg:  0.30365998273963657\n"
          ]
        }
      ]
    },
    {
      "cell_type": "markdown",
      "source": [
        "\n",
        "\n",
        "### Train Beta=5"
      ],
      "metadata": {
        "id": "ifQls9TUyd0o"
      }
    },
    {
      "cell_type": "code",
      "source": [
        "\"\"\"\n",
        "Initialize Hyperparameters\n",
        "\"\"\"\n",
        "device = torch.device('cuda' if torch.cuda.is_available() else 'cpu')\n",
        "batch_size = 128\n",
        "learning_rate = 1e-3 #5e-4\n",
        "num_epochs = 5\n",
        "beta = 5\n",
        "netConv5 = BetaVAEConv(beta=beta).to(device)\n",
        "optimizer_netConv5 = torch.optim.Adam(netConv5.parameters(), lr=learning_rate)"
      ],
      "metadata": {
        "id": "2H5TMW3fyd0o"
      },
      "execution_count": null,
      "outputs": []
    },
    {
      "cell_type": "code",
      "source": [
        "DSPRITES_PATH = '/content/drive/MyDrive/dsprites/dsprites_ndarray_co1sh3sc6or40x32y32_64x64.npz'\n",
        "with open(DSPRITES_PATH, \"rb\") as data_file:\n",
        "  data = np.load(data_file, encoding=\"latin1\", allow_pickle=True)\n",
        "  images = data['imgs']\n",
        "  \n",
        "train_loader_full_conv5 = torch.utils.data.DataLoader(images, batch_size=batch_size, shuffle=True) # each batch: [128, 64, 64]"
      ],
      "metadata": {
        "id": "z9uSHU0eyd0p"
      },
      "execution_count": null,
      "outputs": []
    },
    {
      "cell_type": "code",
      "source": [
        "train_conv(num_epochs, train_loader_full_conv5, netConv5, optimizer_netConv5, device)"
      ],
      "metadata": {
        "colab": {
          "base_uri": "https://localhost:8080/"
        },
        "outputId": "09dc541e-2951-40f0-88a4-e1dc8321dd56",
        "id": "ICuYAbudyd0p"
      },
      "execution_count": null,
      "outputs": [
        {
          "output_type": "stream",
          "name": "stdout",
          "text": [
            "epoch:  0\n",
            "Epoch 0: Loss 23572.09002448188\n",
            "epoch:  1\n",
            "Epoch 1: Loss 18130.673868815105\n",
            "epoch:  2\n",
            "Epoch 2: Loss 17798.457089572483\n",
            "epoch:  3\n",
            "Epoch 3: Loss 17529.39683210585\n",
            "epoch:  4\n",
            "Epoch 4: Loss 17076.53977135552\n"
          ]
        }
      ]
    },
    {
      "cell_type": "code",
      "source": [
        "recon_samples(2, 38217, images, netConv5)"
      ],
      "metadata": {
        "colab": {
          "base_uri": "https://localhost:8080/",
          "height": 358
        },
        "outputId": "f101540c-6be4-4134-8be7-de3f495cbb2f",
        "id": "a5C4X-S6yd0q"
      },
      "execution_count": null,
      "outputs": [
        {
          "output_type": "stream",
          "name": "stdout",
          "text": [
            "(64, 64)\n",
            "first tensor shape:  torch.Size([1, 1, 64, 64])\n",
            "enc_first:  torch.Size([1, 10])\n",
            "dec_first:  torch.Size([1, 1, 64, 64])\n",
            "last tensor shape:  torch.Size([1, 1, 64, 64])\n"
          ]
        },
        {
          "output_type": "display_data",
          "data": {
            "text/plain": [
              "<Figure size 432x288 with 4 Axes>"
            ],
            "image/png": "[encoded data removed]"
          },
          "metadata": {
            "needs_background": "light"
          }
        }
      ]
    },
    {
      "cell_type": "code",
      "source": [
        "interpolate(0, images, netConv5, dim_to_interpolate=0)"
      ],
      "metadata": {
        "colab": {
          "base_uri": "https://localhost:8080/",
          "height": 206
        },
        "outputId": "03402458-3895-40d6-d264-79f544c2119e",
        "id": "R2WU7lZnyd0q"
      },
      "execution_count": null,
      "outputs": [
        {
          "output_type": "stream",
          "name": "stdout",
          "text": [
            "(64, 64)\n",
            "first tensor shape:  torch.Size([1, 1, 64, 64])\n",
            "tensor([-3.0000, -1.8000, -0.6000,  0.6000,  1.8000,  3.0000],\n",
            "       dtype=torch.float64)\n",
            "torch.Size([6, 1, 64, 64])\n",
            "torch.Size([1, 64, 64])\n"
          ]
        },
        {
          "output_type": "display_data",
          "data": {
            "text/plain": [
              "<Figure size 432x288 with 6 Axes>"
            ],
            "image/png": "[encoded data removed]"
          },
          "metadata": {
            "needs_background": "light"
          }
        }
      ]
    },
    {
      "cell_type": "code",
      "source": [
        "representation_function5 = netConv5.cpu().encode\n",
        "train_classifier(128, ds, representation_function5, 'BetaVAE', num_train_data=2000)"
      ],
      "metadata": {
        "colab": {
          "base_uri": "https://localhost:8080/",
          "height": 183
        },
        "outputId": "5081fbf1-3c20-418c-f402-6124c9fa1686",
        "id": "zz1J8B8fyd0q"
      },
      "execution_count": null,
      "outputs": [
        {
          "output_type": "error",
          "ename": "NameError",
          "evalue": "ignored",
          "traceback": [
            "\u001b[0;31m---------------------------------------------------------------------------\u001b[0m",
            "\u001b[0;31mNameError\u001b[0m                                 Traceback (most recent call last)",
            "\u001b[0;32m<ipython-input-70-d117e19fe065>\u001b[0m in \u001b[0;36m<module>\u001b[0;34m()\u001b[0m\n\u001b[0;32m----> 1\u001b[0;31m \u001b[0mrepresentation_function5\u001b[0m \u001b[0;34m=\u001b[0m \u001b[0mnetConv5\u001b[0m\u001b[0;34m.\u001b[0m\u001b[0mcpu\u001b[0m\u001b[0;34m(\u001b[0m\u001b[0;34m)\u001b[0m\u001b[0;34m.\u001b[0m\u001b[0mencode\u001b[0m\u001b[0;34m\u001b[0m\u001b[0;34m\u001b[0m\u001b[0m\n\u001b[0m\u001b[1;32m      2\u001b[0m \u001b[0mtrain_classifier\u001b[0m\u001b[0;34m(\u001b[0m\u001b[0;36m128\u001b[0m\u001b[0;34m,\u001b[0m \u001b[0mds\u001b[0m\u001b[0;34m,\u001b[0m \u001b[0mrepresentation_function5\u001b[0m\u001b[0;34m,\u001b[0m \u001b[0;34m'BetaVAE'\u001b[0m\u001b[0;34m,\u001b[0m \u001b[0mnum_train_data\u001b[0m\u001b[0;34m=\u001b[0m\u001b[0;36m2000\u001b[0m\u001b[0;34m)\u001b[0m\u001b[0;34m\u001b[0m\u001b[0;34m\u001b[0m\u001b[0m\n",
            "\u001b[0;31mNameError\u001b[0m: name 'netConv5' is not defined"
          ]
        }
      ]
    },
    {
      "cell_type": "code",
      "source": [
        "# MIG\n",
        "representation_function5 = netConv5.cpu().encode\n",
        "res_MIG = get_MI(1, ds, representation_function5, model_type='BetaVAE', num_train_data=2000, density=1, num_bins=50)"
      ],
      "metadata": {
        "id": "-8Yt8idcyd0r",
        "colab": {
          "base_uri": "https://localhost:8080/"
        },
        "outputId": "90a0e038-8aba-4a73-c7c1-0470a05ad382"
      },
      "execution_count": null,
      "outputs": [
        {
          "output_type": "stream",
          "name": "stdout",
          "text": [
            "mode:  MIG\n",
            "factor:  (2000,)\n",
            "entropy:  0.0\n",
            "factor:  (2000,)\n",
            "entropy:  1.098589573243842\n",
            "sorted mi:  [0.5239373211918632, 0.45935312671675677, 0.36421638453143407, 0.3596449176274033, 0.35857093014364594, 0.35056162046964867, 0.33062185495704677, 0.3123741178955425, 0.044011029238983056, 0.04369267325484609]\n",
            "factor:  (2000,)\n",
            "entropy:  1.7914736236859397\n",
            "sorted mi:  [1.2168213716339609, 0.14734816679618543, 0.13122218585246764, 0.12634303919061302, 0.11472486928972478, 0.11243915002371349, 0.11181069493894946, 0.10110895966672079, 0.07372551796521545, 0.060986835420250754]\n",
            "factor:  (2000,)\n",
            "entropy:  3.6805824545065455\n",
            "sorted mi:  [0.8052567373503815, 0.4630187973824082, 0.462958374119055, 0.4552884832275522, 0.454050183997716, 0.4488075983041519, 0.4415854354972646, 0.4302572924607136, 0.4174663200125216, 0.4060148099435823]\n",
            "factor:  (2000,)\n",
            "entropy:  3.4589834013122136\n",
            "sorted mi:  [2.3863987080575226, 0.38133234116064463, 0.37783138318042725, 0.37550443537155853, 0.36347654885795394, 0.3510151251146213, 0.3195982198250058, 0.30939593083406397, 0.3079077146682261, 0.30383829488546954]\n",
            "factor:  (2000,)\n",
            "entropy:  3.4517860206104474\n",
            "sorted mi:  [2.429449999134845, 0.39595215161751374, 0.3838453421860881, 0.37091151098220587, 0.3698540374911191, 0.36159790876593334, 0.34989194099608556, 0.3289561667460623, 0.3090514860895443, 0.3012711848330547]\n",
            "all_fac_mi:  [0.05878828276551591, 0.5969795986375421, 0.09298472298832307, 0.5796692652922902, 0.5891146888524996]\n",
            "avg:  0.46468706894266376\n"
          ]
        }
      ]
    },
    {
      "cell_type": "markdown",
      "source": [
        "\n",
        "### Train Beta=6"
      ],
      "metadata": {
        "id": "kYQAHLYT26Su"
      }
    },
    {
      "cell_type": "code",
      "source": [
        "\"\"\"\n",
        "Initialize Hyperparameters\n",
        "\"\"\"\n",
        "device = torch.device('cuda' if torch.cuda.is_available() else 'cpu')\n",
        "batch_size = 128\n",
        "learning_rate = 1e-3 #5e-4\n",
        "num_epochs = 5\n",
        "beta = 6\n",
        "netConv6 = BetaVAEConv(beta=beta).to(device)\n",
        "optimizer_netConv6 = torch.optim.Adam(netConv6.parameters(), lr=learning_rate)"
      ],
      "metadata": {
        "id": "JyHjKrI426Su"
      },
      "execution_count": null,
      "outputs": []
    },
    {
      "cell_type": "code",
      "source": [
        "DSPRITES_PATH = '/content/drive/MyDrive/dsprites/dsprites_ndarray_co1sh3sc6or40x32y32_64x64.npz'\n",
        "with open(DSPRITES_PATH, \"rb\") as data_file:\n",
        "  data = np.load(data_file, encoding=\"latin1\", allow_pickle=True)\n",
        "  images = data['imgs']\n",
        "  \n",
        "train_loader_full_conv6 = torch.utils.data.DataLoader(images, batch_size=batch_size, shuffle=True) # each batch: [128, 64, 64]"
      ],
      "metadata": {
        "id": "EfJ4ZxRj26Sv"
      },
      "execution_count": null,
      "outputs": []
    },
    {
      "cell_type": "code",
      "source": [
        "train_conv(num_epochs, train_loader_full_conv6, netConv6, optimizer_netConv6, device)"
      ],
      "metadata": {
        "id": "fGVZSO-_26Sv",
        "colab": {
          "base_uri": "https://localhost:8080/"
        },
        "outputId": "0ff8a4d5-b188-4a0d-d9f3-0f9ec892bd02"
      },
      "execution_count": null,
      "outputs": [
        {
          "output_type": "stream",
          "name": "stdout",
          "text": [
            "epoch:  0\n",
            "Epoch 0: Loss 24013.498750813804\n",
            "epoch:  1\n",
            "Epoch 1: Loss 19305.547264607747\n",
            "epoch:  2\n",
            "Epoch 2: Loss 18976.50564812554\n",
            "epoch:  3\n",
            "Epoch 3: Loss 18854.43152940538\n",
            "epoch:  4\n",
            "Epoch 4: Loss 18655.53343166775\n"
          ]
        }
      ]
    },
    {
      "cell_type": "code",
      "source": [
        "recon_samples(2, 38217, images, netConv6)"
      ],
      "metadata": {
        "id": "zJIBiPqm26Sw",
        "colab": {
          "base_uri": "https://localhost:8080/",
          "height": 358
        },
        "outputId": "37a6589d-04bb-48b3-c65c-736f76fdd74a"
      },
      "execution_count": null,
      "outputs": [
        {
          "output_type": "stream",
          "name": "stdout",
          "text": [
            "(64, 64)\n",
            "first tensor shape:  torch.Size([1, 1, 64, 64])\n",
            "enc_first:  torch.Size([1, 10])\n",
            "dec_first:  torch.Size([1, 1, 64, 64])\n",
            "last tensor shape:  torch.Size([1, 1, 64, 64])\n"
          ]
        },
        {
          "output_type": "display_data",
          "data": {
            "text/plain": [
              "<Figure size 432x288 with 4 Axes>"
            ],
            "image/png": "[encoded data removed]"
          },
          "metadata": {
            "needs_background": "light"
          }
        }
      ]
    },
    {
      "cell_type": "code",
      "source": [
        "interpolate(0, images, netConv6, dim_to_interpolate=0)"
      ],
      "metadata": {
        "id": "NiAHLuYi26Sw",
        "colab": {
          "base_uri": "https://localhost:8080/"
        },
        "outputId": "583a3d54-7b07-42da-e70a-4ff73dfda206"
      },
      "execution_count": null,
      "outputs": [
        {
          "output_type": "stream",
          "name": "stdout",
          "text": [
            "(64, 64)\n",
            "first tensor shape:  torch.Size([1, 1, 64, 64])\n",
            "tensor([-3.0000, -1.8000, -0.6000,  0.6000,  1.8000,  3.0000],\n",
            "       dtype=torch.float64)\n",
            "torch.Size([6, 1, 64, 64])\n",
            "torch.Size([1, 64, 64])\n"
          ]
        },
        {
          "output_type": "display_data",
          "data": {
            "text/plain": [
              "<Figure size 720x1080 with 6 Axes>"
            ],
            "image/png": "[encoded data removed]"
          },
          "metadata": {
            "needs_background": "light"
          }
        }
      ]
    },
    {
      "cell_type": "code",
      "source": [
        "representation_function6 = netConv6.cpu().encode\n",
        "train_classifier(16, ds, representation_function6, 'BetaVAE', num_train_data=2000)"
      ],
      "metadata": {
        "id": "xKuTNjQR26Sw",
        "colab": {
          "base_uri": "https://localhost:8080/"
        },
        "outputId": "781ee8d1-2fd5-4601-f375-e667e7280f21"
      },
      "execution_count": null,
      "outputs": [
        {
          "output_type": "stream",
          "name": "stdout",
          "text": [
            "generating training\n",
            "mode:  higgins\n",
            "Generated training\n",
            "mode:  higgins\n"
          ]
        },
        {
          "output_type": "stream",
          "name": "stderr",
          "text": [
            "/usr/local/lib/python3.7/dist-packages/sklearn/linear_model/_logistic.py:818: ConvergenceWarning: lbfgs failed to converge (status=1):\n",
            "STOP: TOTAL NO. of ITERATIONS REACHED LIMIT.\n",
            "\n",
            "Increase the number of iterations (max_iter) or scale the data as shown in:\n",
            "    https://scikit-learn.org/stable/modules/preprocessing.html\n",
            "Please also refer to the documentation for alternative solver options:\n",
            "    https://scikit-learn.org/stable/modules/linear_model.html#logistic-regression\n",
            "  extra_warning_msg=_LOGISTIC_SOLVER_CONVERGENCE_MSG,\n"
          ]
        },
        {
          "output_type": "stream",
          "name": "stdout",
          "text": [
            "Generating evaluation\n",
            "mode:  higgins\n",
            "Generated evaluation\n"
          ]
        },
        {
          "output_type": "execute_result",
          "data": {
            "text/plain": [
              "{'beta_vae_eval_accuracy': 0.718, 'beta_vae_train_accuracy': 0.7705}"
            ]
          },
          "metadata": {},
          "execution_count": 31
        }
      ]
    },
    {
      "cell_type": "code",
      "source": [
        "# MIG\n",
        "representation_function6 = netConv6.cpu().encode\n",
        "res_MIG = get_MI(1, ds, representation_function6, model_type='BetaVAE', num_train_data=2000, density=1, num_bins=50)"
      ],
      "metadata": {
        "colab": {
          "base_uri": "https://localhost:8080/"
        },
        "id": "e0mQP7vYgN_y",
        "outputId": "28bca866-5d4c-4a06-a76d-0d39820d90c4"
      },
      "execution_count": null,
      "outputs": [
        {
          "output_type": "stream",
          "name": "stdout",
          "text": [
            "mode:  MIG\n",
            "factor:  (2000,)\n",
            "entropy:  0.0\n",
            "factor:  (2000,)\n",
            "entropy:  1.098589573243842\n",
            "sorted mi:  [0.48228528696266393, 0.10959004878952852, 0.10560883799112714, 0.09544927369644057, 0.07287764373682665, 0.06766219719948179, 0.067242583533425, 0.06322164021430568, 0.06079713184731616, 0.04481094028021242]\n",
            "factor:  (2000,)\n",
            "entropy:  1.7914736236859397\n",
            "sorted mi:  [1.1737114267247073, 0.2794725363872972, 0.15172262637267475, 0.14283664323684678, 0.12101338028088121, 0.11069223553108506, 0.10897667871699578, 0.08223264669006536, 0.0732034149375741, 0.07300905415008307]\n",
            "factor:  (2000,)\n",
            "entropy:  3.6805824545065455\n",
            "sorted mi:  [0.5107144064582785, 0.4992761935099269, 0.4803319113279675, 0.45829305380200674, 0.43843891112716427, 0.4162476305235965, 0.4077668383523881, 0.38955980231538434, 0.3672608329598438, 0.36166190038527435]\n",
            "factor:  (2000,)\n",
            "entropy:  3.4589834013122136\n",
            "sorted mi:  [1.4829217326967628, 1.4755584219962188, 0.5854790401611033, 0.5049256668339378, 0.4569185139477002, 0.44445110758368167, 0.43688353586267437, 0.40837484202398094, 0.3860613193978007, 0.38087630614618406]\n",
            "factor:  (2000,)\n",
            "entropy:  3.4517860206104474\n",
            "sorted mi:  [2.4705967294184163, 0.5091176071096231, 0.5060451356396656, 0.4617013979137869, 0.40603725929623447, 0.4059838241210363, 0.38379884640868134, 0.3756551947518718, 0.37298270867979977, 0.37249876965168094]\n",
            "all_fac_mi:  [0.339248839830753, 0.4991638606978328, 0.003107718164103753, 0.0021287499378431804, 0.5682504971620188]\n",
            "avg:  0.2681627064904496\n"
          ]
        }
      ]
    },
    {
      "cell_type": "markdown",
      "source": [
        "## Sensitivity Analysis of Metric\n",
        "\n",
        "sensitivity to the linear classifier used "
      ],
      "metadata": {
        "id": "XVOjXByJ1iCm"
      }
    },
    {
      "cell_type": "markdown",
      "source": [
        "### Linear models "
      ],
      "metadata": {
        "id": "xPK6itPq2u_t"
      }
    },
    {
      "cell_type": "code",
      "source": [
        "ridge_scores = train_classifier(16, ds, representation_function1, 'BetaVAE', num_train_data=2000, clf = linear_model.RidgeClassifier)\n",
        "ridge_scores"
      ],
      "metadata": {
        "id": "1ZoEp1jjQ8Jd"
      },
      "execution_count": null,
      "outputs": []
    },
    {
      "cell_type": "code",
      "source": [
        "pca_ridge_scores = compute_beta_vae_sklearn(ground_truth_data, representation_function, random_state, 'PCA', None, L, 2000, 2000, clf = linear_model.RidgeClassifier)\n"
      ],
      "metadata": {
        "id": "frivynv9MNaB"
      },
      "execution_count": null,
      "outputs": []
    },
    {
      "cell_type": "code",
      "source": [
        "pca_ridge_scores"
      ],
      "metadata": {
        "id": "lHQREtgMMXHx"
      },
      "execution_count": null,
      "outputs": []
    },
    {
      "cell_type": "markdown",
      "source": [
        "### Non-Linear Models"
      ],
      "metadata": {
        "id": "vnWajq7n21hk"
      }
    },
    {
      "cell_type": "code",
      "source": [
        "from sklearn import ensemble, neural_network"
      ],
      "metadata": {
        "id": "ZcZ5YxwQ3NLM"
      },
      "execution_count": null,
      "outputs": []
    },
    {
      "cell_type": "code",
      "source": [
        "grad_boost_scores = train_classifier(16, ds, representation_function4, 'BetaVAE', num_train_data=2000, clf=ensemble.GradientBoostingClassifier)\n",
        "grad_boost_scores"
      ],
      "metadata": {
        "id": "jxfR6ZLxQ8Cu"
      },
      "execution_count": null,
      "outputs": []
    },
    {
      "cell_type": "code",
      "source": [
        "pca_gb_scores = compute_beta_vae_sklearn(ground_truth_data, representation_function, random_state, 'PCA', None, L, 2000, 2000, clf = ensemble.GradientBoostingClassifier)\n"
      ],
      "metadata": {
        "id": "xrVYY4s6N2Wv"
      },
      "execution_count": null,
      "outputs": []
    },
    {
      "cell_type": "code",
      "source": [
        "pca_gb_scores"
      ],
      "metadata": {
        "id": "ZN2crHpRN_oq"
      },
      "execution_count": null,
      "outputs": []
    },
    {
      "cell_type": "code",
      "source": [
        "rand_forest_scores = train_classifier(16, ds, representation_function4, 'BetaVAE', num_train_data=2000, clf=ensemble.RandomForestClassifier)\n",
        "rand_forest_scores"
      ],
      "metadata": {
        "id": "sUWjruDs3GDX"
      },
      "execution_count": null,
      "outputs": []
    },
    {
      "cell_type": "code",
      "source": [
        "pca_rf_scores = compute_beta_vae_sklearn(ground_truth_data, representation_function, random_state, 'PCA', None, L, 2000, 2000, clf = ensemble.RandomForestClassifier)\n",
        "pca_rf_scores"
      ],
      "metadata": {
        "id": "CVzy_f1dOFs8"
      },
      "execution_count": null,
      "outputs": []
    },
    {
      "cell_type": "code",
      "source": [
        "mlp_scores = train_classifier(16, ds, representation_function4, 'BetaVAE', num_train_data=2000, clf=neural_network.MLPClassifier)\n",
        "mlp_scores"
      ],
      "metadata": {
        "id": "wvTSnJGv3WKO"
      },
      "execution_count": null,
      "outputs": []
    },
    {
      "cell_type": "code",
      "source": [
        "pca_mlp_scores = compute_beta_vae_sklearn(ground_truth_data, representation_function, random_state, 'PCA', None, L, 2000, 2000, clf = neural_network.MLPClassifier)\n",
        "pca_mlp_scores"
      ],
      "metadata": {
        "id": "RzFlrWSbOfEH"
      },
      "execution_count": null,
      "outputs": []
    },
    {
      "cell_type": "markdown",
      "metadata": {
        "id": "EcL30immAFJT"
      },
      "source": [
        "## Sampling Density analysis"
      ]
    },
    {
      "cell_type": "code",
      "execution_count": null,
      "metadata": {
        "id": "M4A6ikteAvuk"
      },
      "outputs": [],
      "source": [
        "density80 = train_classifier(16, ds, representation_function3, 'BetaVAE', num_train_data=2000, density=0.8)\n"
      ]
    },
    {
      "cell_type": "code",
      "source": [
        "density80"
      ],
      "metadata": {
        "id": "bnaltGJeJeYh"
      },
      "execution_count": null,
      "outputs": []
    },
    {
      "cell_type": "code",
      "execution_count": null,
      "metadata": {
        "id": "0i-zaH3jBb_i"
      },
      "outputs": [],
      "source": [
        "density60 = train_classifier(16, ds, representation_function3, 'BetaVAE', num_train_data=2000, density=0.6)\n"
      ]
    },
    {
      "cell_type": "code",
      "source": [
        "density60"
      ],
      "metadata": {
        "id": "IXMam28QJevw"
      },
      "execution_count": null,
      "outputs": []
    },
    {
      "cell_type": "code",
      "execution_count": null,
      "metadata": {
        "id": "n_R-VT-7Bb2t"
      },
      "outputs": [],
      "source": [
        "density40 = train_classifier(16, ds, representation_function3, 'BetaVAE', num_train_data=2000, density=0.4)\n"
      ]
    },
    {
      "cell_type": "code",
      "source": [
        "density40"
      ],
      "metadata": {
        "id": "rTqOPt5HJfS3"
      },
      "execution_count": null,
      "outputs": []
    },
    {
      "cell_type": "markdown",
      "source": [
        "## Plot the reconstructed Dsprite"
      ],
      "metadata": {
        "id": "Nwa15MVWVfeV"
      }
    },
    {
      "cell_type": "code",
      "source": [
        "import matplotlib.pyplot as plt\n",
        "\n",
        "# Randomly sample a picture\n",
        "first = images[10]\n",
        "print(first.shape)\n",
        "first_tensor = torch.tensor(first).float().unsqueeze(0).unsqueeze(0)\n",
        "\n",
        "\n",
        "print(\"first tensor shape: \", first_tensor.shape)\n",
        "enc = net_VAE.cpu().encoder\n",
        "dec = net_VAE.cpu().decoder\n",
        "enc_first = enc(first_tensor)[0]\n",
        "dec_first = dec(enc_first)[0].squeeze(0)\n",
        "print(\"enc_first: \",enc_first.shape)\n",
        "print(\"dec_first: \",dec_first.shape)\n",
        "\n",
        "# Randomly sample another picture\n",
        "last = images[-180]\n",
        "last_tensor = torch.tensor(last).float().unsqueeze(0).unsqueeze(0)\n",
        "\n",
        "print(\"last tensor shape: \", last_tensor.shape)\n",
        "enc_last = enc(last_tensor)[0]\n",
        "dec_last = dec(enc_last)[0].squeeze(0)\n",
        "\n",
        "net_VAE.eval()\n",
        "with torch.no_grad():\n",
        "  plt.subplot(221)\n",
        "  plt.imshow(first)\n",
        "\n",
        "  plt.subplot(222)\n",
        "  plt.imshow(last)\n",
        "\n",
        "  plt.subplot(223)\n",
        "  plt.imshow(dec_first)\n",
        "\n",
        "  plt.subplot(224)\n",
        "  plt.imshow(dec_last)\n"
      ],
      "metadata": {
        "id": "YxpZd4hfVe3J"
      },
      "execution_count": null,
      "outputs": []
    },
    {
      "cell_type": "markdown",
      "source": [
        "## Interpolate between latent space"
      ],
      "metadata": {
        "id": "Y9REjJqyWKeR"
      }
    },
    {
      "cell_type": "code",
      "source": [
        "# Choose an image to get a latent space\n",
        "first = images[0]\n",
        "print(first.shape)\n",
        "first_tensor = torch.tensor(first).float().unsqueeze(0).unsqueeze(0)\n",
        "\n",
        "print(\"first tensor shape: \", first_tensor.shape)\n",
        "enc = net_VAE.cpu().encoder\n",
        "encoded_space = enc(first_tensor)[0]\n",
        "\n",
        "# Get 6 copies of latent representations\n",
        "base_lat = enc_first.repeat((6, 1))\n",
        "\n",
        "# get even intervals to interpolate between (-2 to 2)\n",
        "interval = torch.tensor(np.linspace(-2,2,6))\n",
        "print(interval)\n",
        "# Choose a dimension (5) to interpolate, while fixing the other\n",
        "base_lat[:, 5] = interval\n",
        "#print(base_lat)\n",
        "\n",
        "dec = net_VAE.cpu().decoder\n",
        "dec_first = dec(base_lat)#.squeeze(0)\n",
        "\n",
        "with torch.no_grad():\n",
        "  plt.subplot(161)\n",
        "  plt.imshow(dec_first[0].squeeze(0))\n",
        "\n",
        "  plt.subplot(162)\n",
        "  plt.imshow(dec_first[1].squeeze(0))\n",
        "\n",
        "  plt.subplot(163)\n",
        "  plt.imshow(dec_first[2].squeeze(0))\n",
        "\n",
        "  plt.subplot(164)\n",
        "  plt.imshow(dec_first[3].squeeze(0))\n",
        "\n",
        "  plt.subplot(165)\n",
        "  plt.imshow(dec_first[4].squeeze(0))\n",
        "\n",
        "  plt.subplot(166)\n",
        "  plt.imshow(dec_first[5].squeeze(0))\n"
      ],
      "metadata": {
        "id": "jKROpsndQ8Qo"
      },
      "execution_count": null,
      "outputs": []
    },
    {
      "cell_type": "code",
      "source": [
        ""
      ],
      "metadata": {
        "id": "hQ7ZB1kEpMwB"
      },
      "execution_count": null,
      "outputs": []
    }
  ]
}